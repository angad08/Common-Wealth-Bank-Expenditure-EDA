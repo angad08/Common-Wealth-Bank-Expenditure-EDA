{
 "cells": [
  {
   "cell_type": "markdown",
   "metadata": {},
   "source": [
    "**IMPORTING REQUIRED LIBRARIES AND CSV DATA**"
   ]
  },
  {
   "cell_type": "code",
   "execution_count": 180,
   "metadata": {},
   "outputs": [],
   "source": [
    "import pandas as pd\n",
    "import numpy as np\n",
    "import seaborn as sns\n",
    "from matplotlib import pyplot as plt\n",
    "import plotly.express as px\n",
    "expn=pd.read_csv(\"/kaggle/input/CommBankExpenses.csv\")\n",
    "expn"
   ]
  },
  {
   "cell_type": "markdown",
   "metadata": {},
   "source": [
    "**EXTRACTING EXACT TRANSACTION DATE FOR A PARTICULAR TRANSACTIONS AND TRANSFROMING THEM TO APPROPRIATE FORMAT**"
   ]
  },
  {
   "cell_type": "code",
   "execution_count": 181,
   "metadata": {},
   "outputs": [],
   "source": [
    "def exactTransactionDate(d):\n",
    "    if \"Date: \" in d:\n",
    "        return d.split(\"Date: \")[-1]\n",
    "    else:\n",
    "        return \"None\"\n",
    "expn[\"exd\"]=expn[\"TRANSACTION_DONE_FOR\"].apply(exactTransactionDate)\n",
    "expn.loc[expn[\"exd\"]==\"None\",[\"exd\"]]=expn[expn[\"exd\"]==\"None\"][\"DATE\"]\n",
    "expn.drop(columns={\"DATE\"},inplace=True)\n",
    "expn.rename(columns={\"exd\":\"TRANSACTION_DATE\",\"TRANSACTION_DONE_FOR\":\"TRANSACTION_NAME\"},inplace=True)"
   ]
  },
  {
   "cell_type": "code",
   "execution_count": 182,
   "metadata": {},
   "outputs": [],
   "source": [
    "expn[\"TRANSACTION_TYPE\"]=expn[\"TRANSACTION_AMOUNT\"].apply(lambda s:\"+\" if s>0 else \"-\")\n",
    "expn[\"TRANSACTION_AMOUNT\"]=expn[\"TRANSACTION_AMOUNT\"].apply(lambda s:abs(s))"
   ]
  },
  {
   "cell_type": "code",
   "execution_count": 183,
   "metadata": {},
   "outputs": [
    {
     "name": "stderr",
     "output_type": "stream",
     "text": [
      "<ipython-input-183-5f9df541484e>:14: SettingWithCopyWarning:\n",
      "\n",
      "\n",
      "A value is trying to be set on a copy of a slice from a DataFrame.\n",
      "Try using .loc[row_indexer,col_indexer] = value instead\n",
      "\n",
      "See the caveats in the documentation: https://pandas.pydata.org/pandas-docs/stable/user_guide/indexing.html#returning-a-view-versus-a-copy\n",
      "\n"
     ]
    }
   ],
   "source": [
    "trans=expn[expn[\"TRANSACTION_TYPE\"]==\"-\"]\n",
    "d=[]\n",
    "m=[]\n",
    "y=[]\n",
    "for j in trans[\"TRANSACTION_DATE\"]:\n",
    "    if \"/\" in j:\n",
    "        d.append(j.split(\"/\")[0])\n",
    "        m.append(j.split(\"/\")[1])\n",
    "        y.append(j.split(\"/\")[2])\n",
    "    else:\n",
    "        d.append(j.split(\"-\")[0])\n",
    "        m.append(j.split(\"-\")[1])\n",
    "        y.append(j.split(\"-\")[2])\n",
    "trans[\"TD\"],trans[\"TM\"],trans[\"TY\"]=d,m,y"
   ]
  },
  {
   "cell_type": "code",
   "execution_count": 184,
   "metadata": {},
   "outputs": [
    {
     "name": "stderr",
     "output_type": "stream",
     "text": [
      "<ipython-input-184-beb820050876>:1: SettingWithCopyWarning:\n",
      "\n",
      "\n",
      "A value is trying to be set on a copy of a slice from a DataFrame.\n",
      "Try using .loc[row_indexer,col_indexer] = value instead\n",
      "\n",
      "See the caveats in the documentation: https://pandas.pydata.org/pandas-docs/stable/user_guide/indexing.html#returning-a-view-versus-a-copy\n",
      "\n",
      "C:\\Users\\Angat\\anaconda3\\lib\\site-packages\\pandas\\core\\frame.py:3065: SettingWithCopyWarning:\n",
      "\n",
      "\n",
      "A value is trying to be set on a copy of a slice from a DataFrame.\n",
      "Try using .loc[row_indexer,col_indexer] = value instead\n",
      "\n",
      "See the caveats in the documentation: https://pandas.pydata.org/pandas-docs/stable/user_guide/indexing.html#returning-a-view-versus-a-copy\n",
      "\n"
     ]
    }
   ],
   "source": [
    "trans[\"TRANSACTION_DATE\"]=trans[\"TD\"]+\"-\"+trans[\"TM\"]+\"-\"+trans[\"TY\"]\n",
    "trans[[\"TD\",\"TM\",\"TY\"]]=trans[[\"TD\",\"TM\",\"TY\"]].astype(\"int32\")\n",
    "trans=trans[(trans[\"TD\"]>16) & (trans[\"TM\"]==6)][[\"TRANSACTION_AMOUNT\",\"TRANSACTION_NAME\",\"TRANSACTION_DATE\"]]"
   ]
  },
  {
   "cell_type": "markdown",
   "metadata": {},
   "source": [
    "**TRANSACTION NAME HERE MEANS FOR WHAT THE TRANSACTION WAS DONE FOR. SO WE ARE TRANSFORMING THEM TO MEANINGFUL FORMAT BY EXTRACTING THE NAMES**"
   ]
  },
  {
   "cell_type": "code",
   "execution_count": 185,
   "metadata": {},
   "outputs": [],
   "source": [
    "trans[\"TRANSACTION_NAME\"]=trans[\"TRANSACTION_NAME\"].apply(lambda x:x.split(\"AU\")[0])"
   ]
  },
  {
   "cell_type": "code",
   "execution_count": 186,
   "metadata": {},
   "outputs": [
    {
     "data": {
      "text/html": [
       "<div>\n",
       "<style scoped>\n",
       "    .dataframe tbody tr th:only-of-type {\n",
       "        vertical-align: middle;\n",
       "    }\n",
       "\n",
       "    .dataframe tbody tr th {\n",
       "        vertical-align: top;\n",
       "    }\n",
       "\n",
       "    .dataframe thead th {\n",
       "        text-align: right;\n",
       "    }\n",
       "</style>\n",
       "<table border=\"1\" class=\"dataframe\">\n",
       "  <thead>\n",
       "    <tr style=\"text-align: right;\">\n",
       "      <th></th>\n",
       "      <th>TRANSACTION_AMOUNT</th>\n",
       "      <th>TRANSACTION_NAME</th>\n",
       "      <th>TRANSACTION_DATE</th>\n",
       "    </tr>\n",
       "  </thead>\n",
       "  <tbody>\n",
       "    <tr>\n",
       "      <th>0</th>\n",
       "      <td>17.33</td>\n",
       "      <td>SQ *THE LIL DUMPLING Melbourne</td>\n",
       "      <td>29-06-2022</td>\n",
       "    </tr>\n",
       "    <tr>\n",
       "      <th>1</th>\n",
       "      <td>40.00</td>\n",
       "      <td>Vodafone Australia North Sydney</td>\n",
       "      <td>29-06-2022</td>\n",
       "    </tr>\n",
       "    <tr>\n",
       "      <th>2</th>\n",
       "      <td>32.38</td>\n",
       "      <td>Atiyah Streetfood Melbourne</td>\n",
       "      <td>29-06-2022</td>\n",
       "    </tr>\n",
       "    <tr>\n",
       "      <th>3</th>\n",
       "      <td>2.70</td>\n",
       "      <td>MELBOURNE VENDING CO TULLAMARINE</td>\n",
       "      <td>27-06-2022</td>\n",
       "    </tr>\n",
       "    <tr>\n",
       "      <th>4</th>\n",
       "      <td>19.55</td>\n",
       "      <td>SPICY N TASTE PTY LTD BUNDOORA</td>\n",
       "      <td>28-06-2022</td>\n",
       "    </tr>\n",
       "    <tr>\n",
       "      <th>5</th>\n",
       "      <td>20.00</td>\n",
       "      <td>MYKI PAYMENTS MELBOURNE</td>\n",
       "      <td>29-06-2022</td>\n",
       "    </tr>\n",
       "    <tr>\n",
       "      <th>6</th>\n",
       "      <td>2.70</td>\n",
       "      <td>MELBOURNE VENDING CO TULLAMARINE</td>\n",
       "      <td>26-06-2022</td>\n",
       "    </tr>\n",
       "    <tr>\n",
       "      <th>7</th>\n",
       "      <td>47.00</td>\n",
       "      <td>Sea Life Melbourne Melbourne</td>\n",
       "      <td>27-06-2022</td>\n",
       "    </tr>\n",
       "    <tr>\n",
       "      <th>8</th>\n",
       "      <td>6.50</td>\n",
       "      <td>COMPASS MELBOURNEZOO PARKVILLE</td>\n",
       "      <td>25-06-2022</td>\n",
       "    </tr>\n",
       "    <tr>\n",
       "      <th>9</th>\n",
       "      <td>34.30</td>\n",
       "      <td>AGORA IGA EXPRESS BUNDOORA VI</td>\n",
       "      <td>24-06-2022</td>\n",
       "    </tr>\n",
       "    <tr>\n",
       "      <th>10</th>\n",
       "      <td>30.00</td>\n",
       "      <td>Melbourne Zoo Parkville</td>\n",
       "      <td>25-06-2022</td>\n",
       "    </tr>\n",
       "    <tr>\n",
       "      <th>11</th>\n",
       "      <td>7.00</td>\n",
       "      <td>COLES 7812 RESERVOIR</td>\n",
       "      <td>22-06-2022</td>\n",
       "    </tr>\n",
       "    <tr>\n",
       "      <th>12</th>\n",
       "      <td>8.00</td>\n",
       "      <td>KMART 1391 RESERVOIR</td>\n",
       "      <td>22-06-2022</td>\n",
       "    </tr>\n",
       "    <tr>\n",
       "      <th>13</th>\n",
       "      <td>21.69</td>\n",
       "      <td>AGORA IGA EXPRESS BUNDOORA VI</td>\n",
       "      <td>22-06-2022</td>\n",
       "    </tr>\n",
       "    <tr>\n",
       "      <th>14</th>\n",
       "      <td>15.00</td>\n",
       "      <td>MUSEUM VICTORIA ADMISS CARLTON</td>\n",
       "      <td>22-06-2022</td>\n",
       "    </tr>\n",
       "    <tr>\n",
       "      <th>15</th>\n",
       "      <td>21.44</td>\n",
       "      <td>UBER *EATS Sydney</td>\n",
       "      <td>21-06-2022</td>\n",
       "    </tr>\n",
       "    <tr>\n",
       "      <th>17</th>\n",
       "      <td>14.15</td>\n",
       "      <td>AGORA IGA EXPRESS BUNDOORA VI</td>\n",
       "      <td>18-06-2022</td>\n",
       "    </tr>\n",
       "    <tr>\n",
       "      <th>18</th>\n",
       "      <td>14.00</td>\n",
       "      <td>ROCKET BURGERS &amp; FRI MELBOURNE VI</td>\n",
       "      <td>19-06-2022</td>\n",
       "    </tr>\n",
       "    <tr>\n",
       "      <th>19</th>\n",
       "      <td>38.85</td>\n",
       "      <td>AGORA IGA EXPRESS BUNDOORA VI</td>\n",
       "      <td>17-06-2022</td>\n",
       "    </tr>\n",
       "    <tr>\n",
       "      <th>20</th>\n",
       "      <td>2.70</td>\n",
       "      <td>MELBOURNE VENDING CO TULLAMARINE</td>\n",
       "      <td>17-06-2022</td>\n",
       "    </tr>\n",
       "    <tr>\n",
       "      <th>21</th>\n",
       "      <td>50.00</td>\n",
       "      <td>MYKI PAYMENTS MELBOURNE</td>\n",
       "      <td>19-06-2022</td>\n",
       "    </tr>\n",
       "    <tr>\n",
       "      <th>22</th>\n",
       "      <td>11.95</td>\n",
       "      <td>KFC ELIZABETH ST MELBOURNE</td>\n",
       "      <td>19-06-2022</td>\n",
       "    </tr>\n",
       "  </tbody>\n",
       "</table>\n",
       "</div>"
      ],
      "text/plain": [
       "    TRANSACTION_AMOUNT                    TRANSACTION_NAME TRANSACTION_DATE\n",
       "0                17.33     SQ *THE LIL DUMPLING Melbourne        29-06-2022\n",
       "1                40.00    Vodafone Australia North Sydney        29-06-2022\n",
       "2                32.38        Atiyah Streetfood Melbourne        29-06-2022\n",
       "3                 2.70   MELBOURNE VENDING CO TULLAMARINE        27-06-2022\n",
       "4                19.55     SPICY N TASTE PTY LTD BUNDOORA        28-06-2022\n",
       "5                20.00            MYKI PAYMENTS MELBOURNE        29-06-2022\n",
       "6                 2.70   MELBOURNE VENDING CO TULLAMARINE        26-06-2022\n",
       "7                47.00       Sea Life Melbourne Melbourne        27-06-2022\n",
       "8                 6.50     COMPASS MELBOURNEZOO PARKVILLE        25-06-2022\n",
       "9                34.30      AGORA IGA EXPRESS BUNDOORA VI        24-06-2022\n",
       "10               30.00            Melbourne Zoo Parkville        25-06-2022\n",
       "11                7.00               COLES 7812 RESERVOIR        22-06-2022\n",
       "12                8.00               KMART 1391 RESERVOIR        22-06-2022\n",
       "13               21.69      AGORA IGA EXPRESS BUNDOORA VI        22-06-2022\n",
       "14               15.00     MUSEUM VICTORIA ADMISS CARLTON        22-06-2022\n",
       "15               21.44                  UBER *EATS Sydney        21-06-2022\n",
       "17               14.15      AGORA IGA EXPRESS BUNDOORA VI        18-06-2022\n",
       "18               14.00  ROCKET BURGERS & FRI MELBOURNE VI        19-06-2022\n",
       "19               38.85      AGORA IGA EXPRESS BUNDOORA VI        17-06-2022\n",
       "20                2.70   MELBOURNE VENDING CO TULLAMARINE        17-06-2022\n",
       "21               50.00            MYKI PAYMENTS MELBOURNE        19-06-2022\n",
       "22               11.95         KFC ELIZABETH ST MELBOURNE        19-06-2022"
      ]
     },
     "execution_count": 186,
     "metadata": {},
     "output_type": "execute_result"
    }
   ],
   "source": [
    "trans"
   ]
  },
  {
   "cell_type": "markdown",
   "metadata": {},
   "source": [
    "**Total Expenses** "
   ]
  },
  {
   "cell_type": "code",
   "execution_count": 187,
   "metadata": {},
   "outputs": [
    {
     "name": "stdout",
     "output_type": "stream",
     "text": [
      "The Total Expenditure For June Month Vaccation is $ 457.24\n",
      "The Average Expenditure For June Month Vaccation is $ 20.78\n",
      "The Max Expenditure For June Month Vaccation is $ 50.0 For MYKI PAYMENTS MELBOURNE \n",
      "The Min Expenditure For June Month Vaccation is $ 2.7 For MELBOURNE VENDING CO TULLAMARINE \n"
     ]
    }
   ],
   "source": [
    "print(f'The Total Expenditure For June Month Vaccation is $ {np.round(trans[\"TRANSACTION_AMOUNT\"].sum(),2)}')\n",
    "print(f'The Average Expenditure For June Month Vaccation is $ {np.round(trans[\"TRANSACTION_AMOUNT\"].mean(),2)}')\n",
    "print(f'The Max Expenditure For June Month Vaccation is $ {np.round(trans[\"TRANSACTION_AMOUNT\"].max(),2)} For {trans[trans[\"TRANSACTION_AMOUNT\"]==trans[\"TRANSACTION_AMOUNT\"].max()][\"TRANSACTION_NAME\"].tolist()[0]}')\n",
    "print(f'The Min Expenditure For June Month Vaccation is $ {np.round(trans[\"TRANSACTION_AMOUNT\"].min(),2)} For {trans[trans[\"TRANSACTION_AMOUNT\"]==trans[\"TRANSACTION_AMOUNT\"].min()][\"TRANSACTION_NAME\"].tolist()[0]}')"
   ]
  },
  {
   "cell_type": "code",
   "execution_count": 188,
   "metadata": {},
   "outputs": [
    {
     "data": {
      "text/plain": [
       "<AxesSubplot:xlabel='TRANSACTION_AMOUNT', ylabel='Count'>"
      ]
     },
     "execution_count": 188,
     "metadata": {},
     "output_type": "execute_result"
    },
    {
     "data": {
      "image/png": "[encoded data removed]",
      "text/plain": [
       "<Figure size 432x288 with 1 Axes>"
      ]
     },
     "metadata": {
      "needs_background": "light"
     },
     "output_type": "display_data"
    }
   ],
   "source": [
    "sns.histplot(x=\"TRANSACTION_AMOUNT\",data=trans,kde=True)"
   ]
  },
  {
   "cell_type": "markdown",
   "metadata": {},
   "source": [
    "The Majority of of the Transactions Are Below <b> \\$ 20</b>"
   ]
  },
  {
   "cell_type": "code",
   "execution_count": 189,
   "metadata": {},
   "outputs": [
    {
     "data": {
      "text/html": [
       "<div>\n",
       "<style scoped>\n",
       "    .dataframe tbody tr th:only-of-type {\n",
       "        vertical-align: middle;\n",
       "    }\n",
       "\n",
       "    .dataframe tbody tr th {\n",
       "        vertical-align: top;\n",
       "    }\n",
       "\n",
       "    .dataframe thead th {\n",
       "        text-align: right;\n",
       "    }\n",
       "</style>\n",
       "<table border=\"1\" class=\"dataframe\">\n",
       "  <thead>\n",
       "    <tr style=\"text-align: right;\">\n",
       "      <th></th>\n",
       "      <th>TRANSACTION_DATE</th>\n",
       "      <th>median</th>\n",
       "      <th>sum</th>\n",
       "      <th>mean</th>\n",
       "      <th>max</th>\n",
       "      <th>min</th>\n",
       "      <th>count</th>\n",
       "    </tr>\n",
       "  </thead>\n",
       "  <tbody>\n",
       "    <tr>\n",
       "      <th>10</th>\n",
       "      <td>29-06-2022</td>\n",
       "      <td>26.19</td>\n",
       "      <td>109.71</td>\n",
       "      <td>27.43</td>\n",
       "      <td>40.00</td>\n",
       "      <td>17.33</td>\n",
       "      <td>4</td>\n",
       "    </tr>\n",
       "    <tr>\n",
       "      <th>2</th>\n",
       "      <td>19-06-2022</td>\n",
       "      <td>14.00</td>\n",
       "      <td>75.95</td>\n",
       "      <td>25.32</td>\n",
       "      <td>50.00</td>\n",
       "      <td>11.95</td>\n",
       "      <td>3</td>\n",
       "    </tr>\n",
       "    <tr>\n",
       "      <th>4</th>\n",
       "      <td>22-06-2022</td>\n",
       "      <td>11.50</td>\n",
       "      <td>51.69</td>\n",
       "      <td>12.92</td>\n",
       "      <td>21.69</td>\n",
       "      <td>7.00</td>\n",
       "      <td>4</td>\n",
       "    </tr>\n",
       "    <tr>\n",
       "      <th>8</th>\n",
       "      <td>27-06-2022</td>\n",
       "      <td>24.85</td>\n",
       "      <td>49.70</td>\n",
       "      <td>24.85</td>\n",
       "      <td>47.00</td>\n",
       "      <td>2.70</td>\n",
       "      <td>2</td>\n",
       "    </tr>\n",
       "    <tr>\n",
       "      <th>0</th>\n",
       "      <td>17-06-2022</td>\n",
       "      <td>20.78</td>\n",
       "      <td>41.55</td>\n",
       "      <td>20.78</td>\n",
       "      <td>38.85</td>\n",
       "      <td>2.70</td>\n",
       "      <td>2</td>\n",
       "    </tr>\n",
       "    <tr>\n",
       "      <th>6</th>\n",
       "      <td>25-06-2022</td>\n",
       "      <td>18.25</td>\n",
       "      <td>36.50</td>\n",
       "      <td>18.25</td>\n",
       "      <td>30.00</td>\n",
       "      <td>6.50</td>\n",
       "      <td>2</td>\n",
       "    </tr>\n",
       "    <tr>\n",
       "      <th>5</th>\n",
       "      <td>24-06-2022</td>\n",
       "      <td>34.30</td>\n",
       "      <td>34.30</td>\n",
       "      <td>34.30</td>\n",
       "      <td>34.30</td>\n",
       "      <td>34.30</td>\n",
       "      <td>1</td>\n",
       "    </tr>\n",
       "    <tr>\n",
       "      <th>3</th>\n",
       "      <td>21-06-2022</td>\n",
       "      <td>21.44</td>\n",
       "      <td>21.44</td>\n",
       "      <td>21.44</td>\n",
       "      <td>21.44</td>\n",
       "      <td>21.44</td>\n",
       "      <td>1</td>\n",
       "    </tr>\n",
       "    <tr>\n",
       "      <th>9</th>\n",
       "      <td>28-06-2022</td>\n",
       "      <td>19.55</td>\n",
       "      <td>19.55</td>\n",
       "      <td>19.55</td>\n",
       "      <td>19.55</td>\n",
       "      <td>19.55</td>\n",
       "      <td>1</td>\n",
       "    </tr>\n",
       "    <tr>\n",
       "      <th>1</th>\n",
       "      <td>18-06-2022</td>\n",
       "      <td>14.15</td>\n",
       "      <td>14.15</td>\n",
       "      <td>14.15</td>\n",
       "      <td>14.15</td>\n",
       "      <td>14.15</td>\n",
       "      <td>1</td>\n",
       "    </tr>\n",
       "    <tr>\n",
       "      <th>7</th>\n",
       "      <td>26-06-2022</td>\n",
       "      <td>2.70</td>\n",
       "      <td>2.70</td>\n",
       "      <td>2.70</td>\n",
       "      <td>2.70</td>\n",
       "      <td>2.70</td>\n",
       "      <td>1</td>\n",
       "    </tr>\n",
       "  </tbody>\n",
       "</table>\n",
       "</div>"
      ],
      "text/plain": [
       "   TRANSACTION_DATE  median     sum   mean    max    min  count\n",
       "10       29-06-2022   26.19  109.71  27.43  40.00  17.33      4\n",
       "2        19-06-2022   14.00   75.95  25.32  50.00  11.95      3\n",
       "4        22-06-2022   11.50   51.69  12.92  21.69   7.00      4\n",
       "8        27-06-2022   24.85   49.70  24.85  47.00   2.70      2\n",
       "0        17-06-2022   20.78   41.55  20.78  38.85   2.70      2\n",
       "6        25-06-2022   18.25   36.50  18.25  30.00   6.50      2\n",
       "5        24-06-2022   34.30   34.30  34.30  34.30  34.30      1\n",
       "3        21-06-2022   21.44   21.44  21.44  21.44  21.44      1\n",
       "9        28-06-2022   19.55   19.55  19.55  19.55  19.55      1\n",
       "1        18-06-2022   14.15   14.15  14.15  14.15  14.15      1\n",
       "7        26-06-2022    2.70    2.70   2.70   2.70   2.70      1"
      ]
     },
     "execution_count": 189,
     "metadata": {},
     "output_type": "execute_result"
    }
   ],
   "source": [
    "transAGG=np.round(trans.groupby([\"TRANSACTION_DATE\"])[\"TRANSACTION_AMOUNT\"].agg({\"sum\",\"mean\",\"median\",\"max\",\"min\",\"count\"}),2).reset_index().sort_values([\"sum\",\"mean\",\"median\",\"max\",\"min\",\"count\"],ascending=False)\n",
    "transAGG"
   ]
  },
  {
   "cell_type": "code",
   "execution_count": 190,
   "metadata": {},
   "outputs": [
    {
     "data": {
      "application/vnd.plotly.v1+json": {
       "config": {
        "plotlyServerURL": "https://plot.ly"
       },
       "data": [
        {
         "alignmentgroup": "True",
         "hovertemplate": "variable=sum<br>TRANSACTION_DATE=%{x}<br>value=%{y}<extra></extra>",
         "legendgroup": "sum",
         "marker": {
          "color": "#636efa",
          "pattern": {
           "shape": ""
          }
         },
         "name": "sum",
         "offsetgroup": "sum",
         "orientation": "v",
         "showlegend": true,
         "textposition": "auto",
         "type": "bar",
         "x": [
          "29-06-2022",
          "19-06-2022",
          "22-06-2022",
          "27-06-2022",
          "17-06-2022",
          "25-06-2022",
          "24-06-2022",
          "21-06-2022",
          "28-06-2022",
          "18-06-2022",
          "26-06-2022"
         ],
         "xaxis": "x",
         "y": [
          109.71,
          75.95,
          51.69,
          49.7,
          41.55,
          36.5,
          34.3,
          21.44,
          19.55,
          14.15,
          2.7
         ],
         "yaxis": "y"
        },
        {
         "alignmentgroup": "True",
         "hovertemplate": "variable=mean<br>TRANSACTION_DATE=%{x}<br>value=%{y}<extra></extra>",
         "legendgroup": "mean",
         "marker": {
          "color": "#EF553B",
          "pattern": {
           "shape": ""
          }
         },
         "name": "mean",
         "offsetgroup": "mean",
         "orientation": "v",
         "showlegend": true,
         "textposition": "auto",
         "type": "bar",
         "x": [
          "29-06-2022",
          "19-06-2022",
          "22-06-2022",
          "27-06-2022",
          "17-06-2022",
          "25-06-2022",
          "24-06-2022",
          "21-06-2022",
          "28-06-2022",
          "18-06-2022",
          "26-06-2022"
         ],
         "xaxis": "x",
         "y": [
          27.43,
          25.32,
          12.92,
          24.85,
          20.78,
          18.25,
          34.3,
          21.44,
          19.55,
          14.15,
          2.7
         ],
         "yaxis": "y"
        },
        {
         "alignmentgroup": "True",
         "hovertemplate": "variable=median<br>TRANSACTION_DATE=%{x}<br>value=%{y}<extra></extra>",
         "legendgroup": "median",
         "marker": {
          "color": "#00cc96",
          "pattern": {
           "shape": ""
          }
         },
         "name": "median",
         "offsetgroup": "median",
         "orientation": "v",
         "showlegend": true,
         "textposition": "auto",
         "type": "bar",
         "x": [
          "29-06-2022",
          "19-06-2022",
          "22-06-2022",
          "27-06-2022",
          "17-06-2022",
          "25-06-2022",
          "24-06-2022",
          "21-06-2022",
          "28-06-2022",
          "18-06-2022",
          "26-06-2022"
         ],
         "xaxis": "x",
         "y": [
          26.19,
          14,
          11.5,
          24.85,
          20.78,
          18.25,
          34.3,
          21.44,
          19.55,
          14.15,
          2.7
         ],
         "yaxis": "y"
        },
        {
         "alignmentgroup": "True",
         "hovertemplate": "variable=max<br>TRANSACTION_DATE=%{x}<br>value=%{y}<extra></extra>",
         "legendgroup": "max",
         "marker": {
          "color": "#ab63fa",
          "pattern": {
           "shape": ""
          }
         },
         "name": "max",
         "offsetgroup": "max",
         "orientation": "v",
         "showlegend": true,
         "textposition": "auto",
         "type": "bar",
         "x": [
          "29-06-2022",
          "19-06-2022",
          "22-06-2022",
          "27-06-2022",
          "17-06-2022",
          "25-06-2022",
          "24-06-2022",
          "21-06-2022",
          "28-06-2022",
          "18-06-2022",
          "26-06-2022"
         ],
         "xaxis": "x",
         "y": [
          40,
          50,
          21.69,
          47,
          38.85,
          30,
          34.3,
          21.44,
          19.55,
          14.15,
          2.7
         ],
         "yaxis": "y"
        },
        {
         "alignmentgroup": "True",
         "hovertemplate": "variable=min<br>TRANSACTION_DATE=%{x}<br>value=%{y}<extra></extra>",
         "legendgroup": "min",
         "marker": {
          "color": "#FFA15A",
          "pattern": {
           "shape": ""
          }
         },
         "name": "min",
         "offsetgroup": "min",
         "orientation": "v",
         "showlegend": true,
         "textposition": "auto",
         "type": "bar",
         "x": [
          "29-06-2022",
          "19-06-2022",
          "22-06-2022",
          "27-06-2022",
          "17-06-2022",
          "25-06-2022",
          "24-06-2022",
          "21-06-2022",
          "28-06-2022",
          "18-06-2022",
          "26-06-2022"
         ],
         "xaxis": "x",
         "y": [
          17.33,
          11.95,
          7,
          2.7,
          2.7,
          6.5,
          34.3,
          21.44,
          19.55,
          14.15,
          2.7
         ],
         "yaxis": "y"
        },
        {
         "alignmentgroup": "True",
         "hovertemplate": "variable=count<br>TRANSACTION_DATE=%{x}<br>value=%{y}<extra></extra>",
         "legendgroup": "count",
         "marker": {
          "color": "#19d3f3",
          "pattern": {
           "shape": ""
          }
         },
         "name": "count",
         "offsetgroup": "count",
         "orientation": "v",
         "showlegend": true,
         "textposition": "auto",
         "type": "bar",
         "x": [
          "29-06-2022",
          "19-06-2022",
          "22-06-2022",
          "27-06-2022",
          "17-06-2022",
          "25-06-2022",
          "24-06-2022",
          "21-06-2022",
          "28-06-2022",
          "18-06-2022",
          "26-06-2022"
         ],
         "xaxis": "x",
         "y": [
          4,
          3,
          4,
          2,
          2,
          2,
          1,
          1,
          1,
          1,
          1
         ],
         "yaxis": "y"
        }
       ],
       "layout": {
        "barmode": "group",
        "legend": {
         "title": {
          "text": "variable"
         },
         "tracegroupgap": 0
        },
        "margin": {
         "t": 60
        },
        "template": {
         "data": {
          "bar": [
           {
            "error_x": {
             "color": "#2a3f5f"
            },
            "error_y": {
             "color": "#2a3f5f"
            },
            "marker": {
             "line": {
              "color": "#E5ECF6",
              "width": 0.5
             },
             "pattern": {
              "fillmode": "overlay",
              "size": 10,
              "solidity": 0.2
             }
            },
            "type": "bar"
           }
          ],
          "barpolar": [
           {
            "marker": {
             "line": {
              "color": "#E5ECF6",
              "width": 0.5
             },
             "pattern": {
              "fillmode": "overlay",
              "size": 10,
              "solidity": 0.2
             }
            },
            "type": "barpolar"
           }
          ],
          "carpet": [
           {
            "aaxis": {
             "endlinecolor": "#2a3f5f",
             "gridcolor": "white",
             "linecolor": "white",
             "minorgridcolor": "white",
             "startlinecolor": "#2a3f5f"
            },
            "baxis": {
             "endlinecolor": "#2a3f5f",
             "gridcolor": "white",
             "linecolor": "white",
             "minorgridcolor": "white",
             "startlinecolor": "#2a3f5f"
            },
            "type": "carpet"
           }
          ],
          "choropleth": [
           {
            "colorbar": {
             "outlinewidth": 0,
             "ticks": ""
            },
            "type": "choropleth"
           }
          ],
          "contour": [
           {
            "colorbar": {
             "outlinewidth": 0,
             "ticks": ""
            },
            "colorscale": [
             [
              0,
              "#0d0887"
             ],
             [
              0.1111111111111111,
              "#46039f"
             ],
             [
              0.2222222222222222,
              "#7201a8"
             ],
             [
              0.3333333333333333,
              "#9c179e"
             ],
             [
              0.4444444444444444,
              "#bd3786"
             ],
             [
              0.5555555555555556,
              "#d8576b"
             ],
             [
              0.6666666666666666,
              "#ed7953"
             ],
             [
              0.7777777777777778,
              "#fb9f3a"
             ],
             [
              0.8888888888888888,
              "#fdca26"
             ],
             [
              1,
              "#f0f921"
             ]
            ],
            "type": "contour"
           }
          ],
          "contourcarpet": [
           {
            "colorbar": {
             "outlinewidth": 0,
             "ticks": ""
            },
            "type": "contourcarpet"
           }
          ],
          "heatmap": [
           {
            "colorbar": {
             "outlinewidth": 0,
             "ticks": ""
            },
            "colorscale": [
             [
              0,
              "#0d0887"
             ],
             [
              0.1111111111111111,
              "#46039f"
             ],
             [
              0.2222222222222222,
              "#7201a8"
             ],
             [
              0.3333333333333333,
              "#9c179e"
             ],
             [
              0.4444444444444444,
              "#bd3786"
             ],
             [
              0.5555555555555556,
              "#d8576b"
             ],
             [
              0.6666666666666666,
              "#ed7953"
             ],
             [
              0.7777777777777778,
              "#fb9f3a"
             ],
             [
              0.8888888888888888,
              "#fdca26"
             ],
             [
              1,
              "#f0f921"
             ]
            ],
            "type": "heatmap"
           }
          ],
          "heatmapgl": [
           {
            "colorbar": {
             "outlinewidth": 0,
             "ticks": ""
            },
            "colorscale": [
             [
              0,
              "#0d0887"
             ],
             [
              0.1111111111111111,
              "#46039f"
             ],
             [
              0.2222222222222222,
              "#7201a8"
             ],
             [
              0.3333333333333333,
              "#9c179e"
             ],
             [
              0.4444444444444444,
              "#bd3786"
             ],
             [
              0.5555555555555556,
              "#d8576b"
             ],
             [
              0.6666666666666666,
              "#ed7953"
             ],
             [
              0.7777777777777778,
              "#fb9f3a"
             ],
             [
              0.8888888888888888,
              "#fdca26"
             ],
             [
              1,
              "#f0f921"
             ]
            ],
            "type": "heatmapgl"
           }
          ],
          "histogram": [
           {
            "marker": {
             "pattern": {
              "fillmode": "overlay",
              "size": 10,
              "solidity": 0.2
             }
            },
            "type": "histogram"
           }
          ],
          "histogram2d": [
           {
            "colorbar": {
             "outlinewidth": 0,
             "ticks": ""
            },
            "colorscale": [
             [
              0,
              "#0d0887"
             ],
             [
              0.1111111111111111,
              "#46039f"
             ],
             [
              0.2222222222222222,
              "#7201a8"
             ],
             [
              0.3333333333333333,
              "#9c179e"
             ],
             [
              0.4444444444444444,
              "#bd3786"
             ],
             [
              0.5555555555555556,
              "#d8576b"
             ],
             [
              0.6666666666666666,
              "#ed7953"
             ],
             [
              0.7777777777777778,
              "#fb9f3a"
             ],
             [
              0.8888888888888888,
              "#fdca26"
             ],
             [
              1,
              "#f0f921"
             ]
            ],
            "type": "histogram2d"
           }
          ],
          "histogram2dcontour": [
           {
            "colorbar": {
             "outlinewidth": 0,
             "ticks": ""
            },
            "colorscale": [
             [
              0,
              "#0d0887"
             ],
             [
              0.1111111111111111,
              "#46039f"
             ],
             [
              0.2222222222222222,
              "#7201a8"
             ],
             [
              0.3333333333333333,
              "#9c179e"
             ],
             [
              0.4444444444444444,
              "#bd3786"
             ],
             [
              0.5555555555555556,
              "#d8576b"
             ],
             [
              0.6666666666666666,
              "#ed7953"
             ],
             [
              0.7777777777777778,
              "#fb9f3a"
             ],
             [
              0.8888888888888888,
              "#fdca26"
             ],
             [
              1,
              "#f0f921"
             ]
            ],
            "type": "histogram2dcontour"
           }
          ],
          "mesh3d": [
           {
            "colorbar": {
             "outlinewidth": 0,
             "ticks": ""
            },
            "type": "mesh3d"
           }
          ],
          "parcoords": [
           {
            "line": {
             "colorbar": {
              "outlinewidth": 0,
              "ticks": ""
             }
            },
            "type": "parcoords"
           }
          ],
          "pie": [
           {
            "automargin": true,
            "type": "pie"
           }
          ],
          "scatter": [
           {
            "marker": {
             "colorbar": {
              "outlinewidth": 0,
              "ticks": ""
             }
            },
            "type": "scatter"
           }
          ],
          "scatter3d": [
           {
            "line": {
             "colorbar": {
              "outlinewidth": 0,
              "ticks": ""
             }
            },
            "marker": {
             "colorbar": {
              "outlinewidth": 0,
              "ticks": ""
             }
            },
            "type": "scatter3d"
           }
          ],
          "scattercarpet": [
           {
            "marker": {
             "colorbar": {
              "outlinewidth": 0,
              "ticks": ""
             }
            },
            "type": "scattercarpet"
           }
          ],
          "scattergeo": [
           {
            "marker": {
             "colorbar": {
              "outlinewidth": 0,
              "ticks": ""
             }
            },
            "type": "scattergeo"
           }
          ],
          "scattergl": [
           {
            "marker": {
             "colorbar": {
              "outlinewidth": 0,
              "ticks": ""
             }
            },
            "type": "scattergl"
           }
          ],
          "scattermapbox": [
           {
            "marker": {
             "colorbar": {
              "outlinewidth": 0,
              "ticks": ""
             }
            },
            "type": "scattermapbox"
           }
          ],
          "scatterpolar": [
           {
            "marker": {
             "colorbar": {
              "outlinewidth": 0,
              "ticks": ""
             }
            },
            "type": "scatterpolar"
           }
          ],
          "scatterpolargl": [
           {
            "marker": {
             "colorbar": {
              "outlinewidth": 0,
              "ticks": ""
             }
            },
            "type": "scatterpolargl"
           }
          ],
          "scatterternary": [
           {
            "marker": {
             "colorbar": {
              "outlinewidth": 0,
              "ticks": ""
             }
            },
            "type": "scatterternary"
           }
          ],
          "surface": [
           {
            "colorbar": {
             "outlinewidth": 0,
             "ticks": ""
            },
            "colorscale": [
             [
              0,
              "#0d0887"
             ],
             [
              0.1111111111111111,
              "#46039f"
             ],
             [
              0.2222222222222222,
              "#7201a8"
             ],
             [
              0.3333333333333333,
              "#9c179e"
             ],
             [
              0.4444444444444444,
              "#bd3786"
             ],
             [
              0.5555555555555556,
              "#d8576b"
             ],
             [
              0.6666666666666666,
              "#ed7953"
             ],
             [
              0.7777777777777778,
              "#fb9f3a"
             ],
             [
              0.8888888888888888,
              "#fdca26"
             ],
             [
              1,
              "#f0f921"
             ]
            ],
            "type": "surface"
           }
          ],
          "table": [
           {
            "cells": {
             "fill": {
              "color": "#EBF0F8"
             },
             "line": {
              "color": "white"
             }
            },
            "header": {
             "fill": {
              "color": "#C8D4E3"
             },
             "line": {
              "color": "white"
             }
            },
            "type": "table"
           }
          ]
         },
         "layout": {
          "annotationdefaults": {
           "arrowcolor": "#2a3f5f",
           "arrowhead": 0,
           "arrowwidth": 1
          },
          "autotypenumbers": "strict",
          "coloraxis": {
           "colorbar": {
            "outlinewidth": 0,
            "ticks": ""
           }
          },
          "colorscale": {
           "diverging": [
            [
             0,
             "#8e0152"
            ],
            [
             0.1,
             "#c51b7d"
            ],
            [
             0.2,
             "#de77ae"
            ],
            [
             0.3,
             "#f1b6da"
            ],
            [
             0.4,
             "#fde0ef"
            ],
            [
             0.5,
             "#f7f7f7"
            ],
            [
             0.6,
             "#e6f5d0"
            ],
            [
             0.7,
             "#b8e186"
            ],
            [
             0.8,
             "#7fbc41"
            ],
            [
             0.9,
             "#4d9221"
            ],
            [
             1,
             "#276419"
            ]
           ],
           "sequential": [
            [
             0,
             "#0d0887"
            ],
            [
             0.1111111111111111,
             "#46039f"
            ],
            [
             0.2222222222222222,
             "#7201a8"
            ],
            [
             0.3333333333333333,
             "#9c179e"
            ],
            [
             0.4444444444444444,
             "#bd3786"
            ],
            [
             0.5555555555555556,
             "#d8576b"
            ],
            [
             0.6666666666666666,
             "#ed7953"
            ],
            [
             0.7777777777777778,
             "#fb9f3a"
            ],
            [
             0.8888888888888888,
             "#fdca26"
            ],
            [
             1,
             "#f0f921"
            ]
           ],
           "sequentialminus": [
            [
             0,
             "#0d0887"
            ],
            [
             0.1111111111111111,
             "#46039f"
            ],
            [
             0.2222222222222222,
             "#7201a8"
            ],
            [
             0.3333333333333333,
             "#9c179e"
            ],
            [
             0.4444444444444444,
             "#bd3786"
            ],
            [
             0.5555555555555556,
             "#d8576b"
            ],
            [
             0.6666666666666666,
             "#ed7953"
            ],
            [
             0.7777777777777778,
             "#fb9f3a"
            ],
            [
             0.8888888888888888,
             "#fdca26"
            ],
            [
             1,
             "#f0f921"
            ]
           ]
          },
          "colorway": [
           "#636efa",
           "#EF553B",
           "#00cc96",
           "#ab63fa",
           "#FFA15A",
           "#19d3f3",
           "#FF6692",
           "#B6E880",
           "#FF97FF",
           "#FECB52"
          ],
          "font": {
           "color": "#2a3f5f"
          },
          "geo": {
           "bgcolor": "white",
           "lakecolor": "white",
           "landcolor": "#E5ECF6",
           "showlakes": true,
           "showland": true,
           "subunitcolor": "white"
          },
          "hoverlabel": {
           "align": "left"
          },
          "hovermode": "closest",
          "mapbox": {
           "style": "light"
          },
          "paper_bgcolor": "white",
          "plot_bgcolor": "#E5ECF6",
          "polar": {
           "angularaxis": {
            "gridcolor": "white",
            "linecolor": "white",
            "ticks": ""
           },
           "bgcolor": "#E5ECF6",
           "radialaxis": {
            "gridcolor": "white",
            "linecolor": "white",
            "ticks": ""
           }
          },
          "scene": {
           "xaxis": {
            "backgroundcolor": "#E5ECF6",
            "gridcolor": "white",
            "gridwidth": 2,
            "linecolor": "white",
            "showbackground": true,
            "ticks": "",
            "zerolinecolor": "white"
           },
           "yaxis": {
            "backgroundcolor": "#E5ECF6",
            "gridcolor": "white",
            "gridwidth": 2,
            "linecolor": "white",
            "showbackground": true,
            "ticks": "",
            "zerolinecolor": "white"
           },
           "zaxis": {
            "backgroundcolor": "#E5ECF6",
            "gridcolor": "white",
            "gridwidth": 2,
            "linecolor": "white",
            "showbackground": true,
            "ticks": "",
            "zerolinecolor": "white"
           }
          },
          "shapedefaults": {
           "line": {
            "color": "#2a3f5f"
           }
          },
          "ternary": {
           "aaxis": {
            "gridcolor": "white",
            "linecolor": "white",
            "ticks": ""
           },
           "baxis": {
            "gridcolor": "white",
            "linecolor": "white",
            "ticks": ""
           },
           "bgcolor": "#E5ECF6",
           "caxis": {
            "gridcolor": "white",
            "linecolor": "white",
            "ticks": ""
           }
          },
          "title": {
           "x": 0.05
          },
          "xaxis": {
           "automargin": true,
           "gridcolor": "white",
           "linecolor": "white",
           "ticks": "",
           "title": {
            "standoff": 15
           },
           "zerolinecolor": "white",
           "zerolinewidth": 2
          },
          "yaxis": {
           "automargin": true,
           "gridcolor": "white",
           "linecolor": "white",
           "ticks": "",
           "title": {
            "standoff": 15
           },
           "zerolinecolor": "white",
           "zerolinewidth": 2
          }
         }
        },
        "xaxis": {
         "anchor": "y",
         "domain": [
          0,
          1
         ],
         "title": {
          "text": "TRANSACTION_DATE"
         }
        },
        "yaxis": {
         "anchor": "x",
         "domain": [
          0,
          1
         ],
         "title": {
          "text": "value"
         }
        }
       }
      },
      "text/html": [
       "<div>                            <div id=\"cd81bd20-873c-471e-bd16-a6ec1f74c1da\" class=\"plotly-graph-div\" style=\"height:525px; width:100%;\"></div>            <script type=\"text/javascript\">                require([\"plotly\"], function(Plotly) {                    window.PLOTLYENV=window.PLOTLYENV || {};                                    if (document.getElementById(\"cd81bd20-873c-471e-bd16-a6ec1f74c1da\")) {                    Plotly.newPlot(                        \"cd81bd20-873c-471e-bd16-a6ec1f74c1da\",                        [{\"alignmentgroup\":\"True\",\"hovertemplate\":\"variable=sum<br>TRANSACTION_DATE=%{x}<br>value=%{y}<extra></extra>\",\"legendgroup\":\"sum\",\"marker\":{\"color\":\"#636efa\",\"pattern\":{\"shape\":\"\"}},\"name\":\"sum\",\"offsetgroup\":\"sum\",\"orientation\":\"v\",\"showlegend\":true,\"textposition\":\"auto\",\"type\":\"bar\",\"x\":[\"29-06-2022\",\"19-06-2022\",\"22-06-2022\",\"27-06-2022\",\"17-06-2022\",\"25-06-2022\",\"24-06-2022\",\"21-06-2022\",\"28-06-2022\",\"18-06-2022\",\"26-06-2022\"],\"xaxis\":\"x\",\"y\":[109.71,75.95,51.69,49.7,41.55,36.5,34.3,21.44,19.55,14.15,2.7],\"yaxis\":\"y\"},{\"alignmentgroup\":\"True\",\"hovertemplate\":\"variable=mean<br>TRANSACTION_DATE=%{x}<br>value=%{y}<extra></extra>\",\"legendgroup\":\"mean\",\"marker\":{\"color\":\"#EF553B\",\"pattern\":{\"shape\":\"\"}},\"name\":\"mean\",\"offsetgroup\":\"mean\",\"orientation\":\"v\",\"showlegend\":true,\"textposition\":\"auto\",\"type\":\"bar\",\"x\":[\"29-06-2022\",\"19-06-2022\",\"22-06-2022\",\"27-06-2022\",\"17-06-2022\",\"25-06-2022\",\"24-06-2022\",\"21-06-2022\",\"28-06-2022\",\"18-06-2022\",\"26-06-2022\"],\"xaxis\":\"x\",\"y\":[27.43,25.32,12.92,24.85,20.78,18.25,34.3,21.44,19.55,14.15,2.7],\"yaxis\":\"y\"},{\"alignmentgroup\":\"True\",\"hovertemplate\":\"variable=median<br>TRANSACTION_DATE=%{x}<br>value=%{y}<extra></extra>\",\"legendgroup\":\"median\",\"marker\":{\"color\":\"#00cc96\",\"pattern\":{\"shape\":\"\"}},\"name\":\"median\",\"offsetgroup\":\"median\",\"orientation\":\"v\",\"showlegend\":true,\"textposition\":\"auto\",\"type\":\"bar\",\"x\":[\"29-06-2022\",\"19-06-2022\",\"22-06-2022\",\"27-06-2022\",\"17-06-2022\",\"25-06-2022\",\"24-06-2022\",\"21-06-2022\",\"28-06-2022\",\"18-06-2022\",\"26-06-2022\"],\"xaxis\":\"x\",\"y\":[26.19,14.0,11.5,24.85,20.78,18.25,34.3,21.44,19.55,14.15,2.7],\"yaxis\":\"y\"},{\"alignmentgroup\":\"True\",\"hovertemplate\":\"variable=max<br>TRANSACTION_DATE=%{x}<br>value=%{y}<extra></extra>\",\"legendgroup\":\"max\",\"marker\":{\"color\":\"#ab63fa\",\"pattern\":{\"shape\":\"\"}},\"name\":\"max\",\"offsetgroup\":\"max\",\"orientation\":\"v\",\"showlegend\":true,\"textposition\":\"auto\",\"type\":\"bar\",\"x\":[\"29-06-2022\",\"19-06-2022\",\"22-06-2022\",\"27-06-2022\",\"17-06-2022\",\"25-06-2022\",\"24-06-2022\",\"21-06-2022\",\"28-06-2022\",\"18-06-2022\",\"26-06-2022\"],\"xaxis\":\"x\",\"y\":[40.0,50.0,21.69,47.0,38.85,30.0,34.3,21.44,19.55,14.15,2.7],\"yaxis\":\"y\"},{\"alignmentgroup\":\"True\",\"hovertemplate\":\"variable=min<br>TRANSACTION_DATE=%{x}<br>value=%{y}<extra></extra>\",\"legendgroup\":\"min\",\"marker\":{\"color\":\"#FFA15A\",\"pattern\":{\"shape\":\"\"}},\"name\":\"min\",\"offsetgroup\":\"min\",\"orientation\":\"v\",\"showlegend\":true,\"textposition\":\"auto\",\"type\":\"bar\",\"x\":[\"29-06-2022\",\"19-06-2022\",\"22-06-2022\",\"27-06-2022\",\"17-06-2022\",\"25-06-2022\",\"24-06-2022\",\"21-06-2022\",\"28-06-2022\",\"18-06-2022\",\"26-06-2022\"],\"xaxis\":\"x\",\"y\":[17.33,11.95,7.0,2.7,2.7,6.5,34.3,21.44,19.55,14.15,2.7],\"yaxis\":\"y\"},{\"alignmentgroup\":\"True\",\"hovertemplate\":\"variable=count<br>TRANSACTION_DATE=%{x}<br>value=%{y}<extra></extra>\",\"legendgroup\":\"count\",\"marker\":{\"color\":\"#19d3f3\",\"pattern\":{\"shape\":\"\"}},\"name\":\"count\",\"offsetgroup\":\"count\",\"orientation\":\"v\",\"showlegend\":true,\"textposition\":\"auto\",\"type\":\"bar\",\"x\":[\"29-06-2022\",\"19-06-2022\",\"22-06-2022\",\"27-06-2022\",\"17-06-2022\",\"25-06-2022\",\"24-06-2022\",\"21-06-2022\",\"28-06-2022\",\"18-06-2022\",\"26-06-2022\"],\"xaxis\":\"x\",\"y\":[4.0,3.0,4.0,2.0,2.0,2.0,1.0,1.0,1.0,1.0,1.0],\"yaxis\":\"y\"}],                        {\"barmode\":\"group\",\"legend\":{\"title\":{\"text\":\"variable\"},\"tracegroupgap\":0},\"margin\":{\"t\":60},\"template\":{\"data\":{\"bar\":[{\"error_x\":{\"color\":\"#2a3f5f\"},\"error_y\":{\"color\":\"#2a3f5f\"},\"marker\":{\"line\":{\"color\":\"#E5ECF6\",\"width\":0.5},\"pattern\":{\"fillmode\":\"overlay\",\"size\":10,\"solidity\":0.2}},\"type\":\"bar\"}],\"barpolar\":[{\"marker\":{\"line\":{\"color\":\"#E5ECF6\",\"width\":0.5},\"pattern\":{\"fillmode\":\"overlay\",\"size\":10,\"solidity\":0.2}},\"type\":\"barpolar\"}],\"carpet\":[{\"aaxis\":{\"endlinecolor\":\"#2a3f5f\",\"gridcolor\":\"white\",\"linecolor\":\"white\",\"minorgridcolor\":\"white\",\"startlinecolor\":\"#2a3f5f\"},\"baxis\":{\"endlinecolor\":\"#2a3f5f\",\"gridcolor\":\"white\",\"linecolor\":\"white\",\"minorgridcolor\":\"white\",\"startlinecolor\":\"#2a3f5f\"},\"type\":\"carpet\"}],\"choropleth\":[{\"colorbar\":{\"outlinewidth\":0,\"ticks\":\"\"},\"type\":\"choropleth\"}],\"contour\":[{\"colorbar\":{\"outlinewidth\":0,\"ticks\":\"\"},\"colorscale\":[[0.0,\"#0d0887\"],[0.1111111111111111,\"#46039f\"],[0.2222222222222222,\"#7201a8\"],[0.3333333333333333,\"#9c179e\"],[0.4444444444444444,\"#bd3786\"],[0.5555555555555556,\"#d8576b\"],[0.6666666666666666,\"#ed7953\"],[0.7777777777777778,\"#fb9f3a\"],[0.8888888888888888,\"#fdca26\"],[1.0,\"#f0f921\"]],\"type\":\"contour\"}],\"contourcarpet\":[{\"colorbar\":{\"outlinewidth\":0,\"ticks\":\"\"},\"type\":\"contourcarpet\"}],\"heatmap\":[{\"colorbar\":{\"outlinewidth\":0,\"ticks\":\"\"},\"colorscale\":[[0.0,\"#0d0887\"],[0.1111111111111111,\"#46039f\"],[0.2222222222222222,\"#7201a8\"],[0.3333333333333333,\"#9c179e\"],[0.4444444444444444,\"#bd3786\"],[0.5555555555555556,\"#d8576b\"],[0.6666666666666666,\"#ed7953\"],[0.7777777777777778,\"#fb9f3a\"],[0.8888888888888888,\"#fdca26\"],[1.0,\"#f0f921\"]],\"type\":\"heatmap\"}],\"heatmapgl\":[{\"colorbar\":{\"outlinewidth\":0,\"ticks\":\"\"},\"colorscale\":[[0.0,\"#0d0887\"],[0.1111111111111111,\"#46039f\"],[0.2222222222222222,\"#7201a8\"],[0.3333333333333333,\"#9c179e\"],[0.4444444444444444,\"#bd3786\"],[0.5555555555555556,\"#d8576b\"],[0.6666666666666666,\"#ed7953\"],[0.7777777777777778,\"#fb9f3a\"],[0.8888888888888888,\"#fdca26\"],[1.0,\"#f0f921\"]],\"type\":\"heatmapgl\"}],\"histogram\":[{\"marker\":{\"pattern\":{\"fillmode\":\"overlay\",\"size\":10,\"solidity\":0.2}},\"type\":\"histogram\"}],\"histogram2d\":[{\"colorbar\":{\"outlinewidth\":0,\"ticks\":\"\"},\"colorscale\":[[0.0,\"#0d0887\"],[0.1111111111111111,\"#46039f\"],[0.2222222222222222,\"#7201a8\"],[0.3333333333333333,\"#9c179e\"],[0.4444444444444444,\"#bd3786\"],[0.5555555555555556,\"#d8576b\"],[0.6666666666666666,\"#ed7953\"],[0.7777777777777778,\"#fb9f3a\"],[0.8888888888888888,\"#fdca26\"],[1.0,\"#f0f921\"]],\"type\":\"histogram2d\"}],\"histogram2dcontour\":[{\"colorbar\":{\"outlinewidth\":0,\"ticks\":\"\"},\"colorscale\":[[0.0,\"#0d0887\"],[0.1111111111111111,\"#46039f\"],[0.2222222222222222,\"#7201a8\"],[0.3333333333333333,\"#9c179e\"],[0.4444444444444444,\"#bd3786\"],[0.5555555555555556,\"#d8576b\"],[0.6666666666666666,\"#ed7953\"],[0.7777777777777778,\"#fb9f3a\"],[0.8888888888888888,\"#fdca26\"],[1.0,\"#f0f921\"]],\"type\":\"histogram2dcontour\"}],\"mesh3d\":[{\"colorbar\":{\"outlinewidth\":0,\"ticks\":\"\"},\"type\":\"mesh3d\"}],\"parcoords\":[{\"line\":{\"colorbar\":{\"outlinewidth\":0,\"ticks\":\"\"}},\"type\":\"parcoords\"}],\"pie\":[{\"automargin\":true,\"type\":\"pie\"}],\"scatter\":[{\"marker\":{\"colorbar\":{\"outlinewidth\":0,\"ticks\":\"\"}},\"type\":\"scatter\"}],\"scatter3d\":[{\"line\":{\"colorbar\":{\"outlinewidth\":0,\"ticks\":\"\"}},\"marker\":{\"colorbar\":{\"outlinewidth\":0,\"ticks\":\"\"}},\"type\":\"scatter3d\"}],\"scattercarpet\":[{\"marker\":{\"colorbar\":{\"outlinewidth\":0,\"ticks\":\"\"}},\"type\":\"scattercarpet\"}],\"scattergeo\":[{\"marker\":{\"colorbar\":{\"outlinewidth\":0,\"ticks\":\"\"}},\"type\":\"scattergeo\"}],\"scattergl\":[{\"marker\":{\"colorbar\":{\"outlinewidth\":0,\"ticks\":\"\"}},\"type\":\"scattergl\"}],\"scattermapbox\":[{\"marker\":{\"colorbar\":{\"outlinewidth\":0,\"ticks\":\"\"}},\"type\":\"scattermapbox\"}],\"scatterpolar\":[{\"marker\":{\"colorbar\":{\"outlinewidth\":0,\"ticks\":\"\"}},\"type\":\"scatterpolar\"}],\"scatterpolargl\":[{\"marker\":{\"colorbar\":{\"outlinewidth\":0,\"ticks\":\"\"}},\"type\":\"scatterpolargl\"}],\"scatterternary\":[{\"marker\":{\"colorbar\":{\"outlinewidth\":0,\"ticks\":\"\"}},\"type\":\"scatterternary\"}],\"surface\":[{\"colorbar\":{\"outlinewidth\":0,\"ticks\":\"\"},\"colorscale\":[[0.0,\"#0d0887\"],[0.1111111111111111,\"#46039f\"],[0.2222222222222222,\"#7201a8\"],[0.3333333333333333,\"#9c179e\"],[0.4444444444444444,\"#bd3786\"],[0.5555555555555556,\"#d8576b\"],[0.6666666666666666,\"#ed7953\"],[0.7777777777777778,\"#fb9f3a\"],[0.8888888888888888,\"#fdca26\"],[1.0,\"#f0f921\"]],\"type\":\"surface\"}],\"table\":[{\"cells\":{\"fill\":{\"color\":\"#EBF0F8\"},\"line\":{\"color\":\"white\"}},\"header\":{\"fill\":{\"color\":\"#C8D4E3\"},\"line\":{\"color\":\"white\"}},\"type\":\"table\"}]},\"layout\":{\"annotationdefaults\":{\"arrowcolor\":\"#2a3f5f\",\"arrowhead\":0,\"arrowwidth\":1},\"autotypenumbers\":\"strict\",\"coloraxis\":{\"colorbar\":{\"outlinewidth\":0,\"ticks\":\"\"}},\"colorscale\":{\"diverging\":[[0,\"#8e0152\"],[0.1,\"#c51b7d\"],[0.2,\"#de77ae\"],[0.3,\"#f1b6da\"],[0.4,\"#fde0ef\"],[0.5,\"#f7f7f7\"],[0.6,\"#e6f5d0\"],[0.7,\"#b8e186\"],[0.8,\"#7fbc41\"],[0.9,\"#4d9221\"],[1,\"#276419\"]],\"sequential\":[[0.0,\"#0d0887\"],[0.1111111111111111,\"#46039f\"],[0.2222222222222222,\"#7201a8\"],[0.3333333333333333,\"#9c179e\"],[0.4444444444444444,\"#bd3786\"],[0.5555555555555556,\"#d8576b\"],[0.6666666666666666,\"#ed7953\"],[0.7777777777777778,\"#fb9f3a\"],[0.8888888888888888,\"#fdca26\"],[1.0,\"#f0f921\"]],\"sequentialminus\":[[0.0,\"#0d0887\"],[0.1111111111111111,\"#46039f\"],[0.2222222222222222,\"#7201a8\"],[0.3333333333333333,\"#9c179e\"],[0.4444444444444444,\"#bd3786\"],[0.5555555555555556,\"#d8576b\"],[0.6666666666666666,\"#ed7953\"],[0.7777777777777778,\"#fb9f3a\"],[0.8888888888888888,\"#fdca26\"],[1.0,\"#f0f921\"]]},\"colorway\":[\"#636efa\",\"#EF553B\",\"#00cc96\",\"#ab63fa\",\"#FFA15A\",\"#19d3f3\",\"#FF6692\",\"#B6E880\",\"#FF97FF\",\"#FECB52\"],\"font\":{\"color\":\"#2a3f5f\"},\"geo\":{\"bgcolor\":\"white\",\"lakecolor\":\"white\",\"landcolor\":\"#E5ECF6\",\"showlakes\":true,\"showland\":true,\"subunitcolor\":\"white\"},\"hoverlabel\":{\"align\":\"left\"},\"hovermode\":\"closest\",\"mapbox\":{\"style\":\"light\"},\"paper_bgcolor\":\"white\",\"plot_bgcolor\":\"#E5ECF6\",\"polar\":{\"angularaxis\":{\"gridcolor\":\"white\",\"linecolor\":\"white\",\"ticks\":\"\"},\"bgcolor\":\"#E5ECF6\",\"radialaxis\":{\"gridcolor\":\"white\",\"linecolor\":\"white\",\"ticks\":\"\"}},\"scene\":{\"xaxis\":{\"backgroundcolor\":\"#E5ECF6\",\"gridcolor\":\"white\",\"gridwidth\":2,\"linecolor\":\"white\",\"showbackground\":true,\"ticks\":\"\",\"zerolinecolor\":\"white\"},\"yaxis\":{\"backgroundcolor\":\"#E5ECF6\",\"gridcolor\":\"white\",\"gridwidth\":2,\"linecolor\":\"white\",\"showbackground\":true,\"ticks\":\"\",\"zerolinecolor\":\"white\"},\"zaxis\":{\"backgroundcolor\":\"#E5ECF6\",\"gridcolor\":\"white\",\"gridwidth\":2,\"linecolor\":\"white\",\"showbackground\":true,\"ticks\":\"\",\"zerolinecolor\":\"white\"}},\"shapedefaults\":{\"line\":{\"color\":\"#2a3f5f\"}},\"ternary\":{\"aaxis\":{\"gridcolor\":\"white\",\"linecolor\":\"white\",\"ticks\":\"\"},\"baxis\":{\"gridcolor\":\"white\",\"linecolor\":\"white\",\"ticks\":\"\"},\"bgcolor\":\"#E5ECF6\",\"caxis\":{\"gridcolor\":\"white\",\"linecolor\":\"white\",\"ticks\":\"\"}},\"title\":{\"x\":0.05},\"xaxis\":{\"automargin\":true,\"gridcolor\":\"white\",\"linecolor\":\"white\",\"ticks\":\"\",\"title\":{\"standoff\":15},\"zerolinecolor\":\"white\",\"zerolinewidth\":2},\"yaxis\":{\"automargin\":true,\"gridcolor\":\"white\",\"linecolor\":\"white\",\"ticks\":\"\",\"title\":{\"standoff\":15},\"zerolinecolor\":\"white\",\"zerolinewidth\":2}}},\"xaxis\":{\"anchor\":\"y\",\"domain\":[0.0,1.0],\"title\":{\"text\":\"TRANSACTION_DATE\"}},\"yaxis\":{\"anchor\":\"x\",\"domain\":[0.0,1.0],\"title\":{\"text\":\"value\"}}},                        {\"responsive\": true}                    ).then(function(){\n",
       "                            \n",
       "var gd = document.getElementById('cd81bd20-873c-471e-bd16-a6ec1f74c1da');\n",
       "var x = new MutationObserver(function (mutations, observer) {{\n",
       "        var display = window.getComputedStyle(gd).display;\n",
       "        if (!display || display === 'none') {{\n",
       "            console.log([gd, 'removed!']);\n",
       "            Plotly.purge(gd);\n",
       "            observer.disconnect();\n",
       "        }}\n",
       "}});\n",
       "\n",
       "// Listen for the removal of the full notebook cells\n",
       "var notebookContainer = gd.closest('#notebook-container');\n",
       "if (notebookContainer) {{\n",
       "    x.observe(notebookContainer, {childList: true});\n",
       "}}\n",
       "\n",
       "// Listen for the clearing of the current output cell\n",
       "var outputEl = gd.closest('.output');\n",
       "if (outputEl) {{\n",
       "    x.observe(outputEl, {childList: true});\n",
       "}}\n",
       "\n",
       "                        })                };                });            </script>        </div>"
      ]
     },
     "metadata": {},
     "output_type": "display_data"
    }
   ],
   "source": [
    "px.bar(transAGG,x=\"TRANSACTION_DATE\",y=[\"sum\",\"mean\",\"median\",\"max\",\"min\",\"count\"],barmode=\"group\")"
   ]
  },
  {
   "cell_type": "markdown",
   "metadata": {},
   "source": [
    "From aboove we infer that We spent Max on <b>29th June</b> with Total and Average Of <b> \\$ 109.71 </b> and <b> \\$ 27.43 </b> And Max of <b> \\$ 40 </b> Spent on Vodafone Netpack Recharge"
   ]
  },
  {
   "cell_type": "code",
   "execution_count": 191,
   "metadata": {},
   "outputs": [
    {
     "data": {
      "text/html": [
       "<div>\n",
       "<style scoped>\n",
       "    .dataframe tbody tr th:only-of-type {\n",
       "        vertical-align: middle;\n",
       "    }\n",
       "\n",
       "    .dataframe tbody tr th {\n",
       "        vertical-align: top;\n",
       "    }\n",
       "\n",
       "    .dataframe thead th {\n",
       "        text-align: right;\n",
       "    }\n",
       "</style>\n",
       "<table border=\"1\" class=\"dataframe\">\n",
       "  <thead>\n",
       "    <tr style=\"text-align: right;\">\n",
       "      <th></th>\n",
       "      <th>TRANSACTION_NAME</th>\n",
       "      <th>median</th>\n",
       "      <th>sum</th>\n",
       "      <th>mean</th>\n",
       "      <th>max</th>\n",
       "      <th>min</th>\n",
       "      <th>count</th>\n",
       "    </tr>\n",
       "  </thead>\n",
       "  <tbody>\n",
       "    <tr>\n",
       "      <th>0</th>\n",
       "      <td>AGORA IGA EXPRESS BUNDOORA VI</td>\n",
       "      <td>27.99</td>\n",
       "      <td>108.99</td>\n",
       "      <td>27.25</td>\n",
       "      <td>38.85</td>\n",
       "      <td>14.15</td>\n",
       "      <td>4</td>\n",
       "    </tr>\n",
       "    <tr>\n",
       "      <th>8</th>\n",
       "      <td>MYKI PAYMENTS MELBOURNE</td>\n",
       "      <td>35.00</td>\n",
       "      <td>70.00</td>\n",
       "      <td>35.00</td>\n",
       "      <td>50.00</td>\n",
       "      <td>20.00</td>\n",
       "      <td>2</td>\n",
       "    </tr>\n",
       "    <tr>\n",
       "      <th>13</th>\n",
       "      <td>Sea Life Melbourne Melbourne</td>\n",
       "      <td>47.00</td>\n",
       "      <td>47.00</td>\n",
       "      <td>47.00</td>\n",
       "      <td>47.00</td>\n",
       "      <td>47.00</td>\n",
       "      <td>1</td>\n",
       "    </tr>\n",
       "    <tr>\n",
       "      <th>15</th>\n",
       "      <td>Vodafone Australia North Sydney</td>\n",
       "      <td>40.00</td>\n",
       "      <td>40.00</td>\n",
       "      <td>40.00</td>\n",
       "      <td>40.00</td>\n",
       "      <td>40.00</td>\n",
       "      <td>1</td>\n",
       "    </tr>\n",
       "    <tr>\n",
       "      <th>1</th>\n",
       "      <td>Atiyah Streetfood Melbourne</td>\n",
       "      <td>32.38</td>\n",
       "      <td>32.38</td>\n",
       "      <td>32.38</td>\n",
       "      <td>32.38</td>\n",
       "      <td>32.38</td>\n",
       "      <td>1</td>\n",
       "    </tr>\n",
       "    <tr>\n",
       "      <th>9</th>\n",
       "      <td>Melbourne Zoo Parkville</td>\n",
       "      <td>30.00</td>\n",
       "      <td>30.00</td>\n",
       "      <td>30.00</td>\n",
       "      <td>30.00</td>\n",
       "      <td>30.00</td>\n",
       "      <td>1</td>\n",
       "    </tr>\n",
       "    <tr>\n",
       "      <th>14</th>\n",
       "      <td>UBER *EATS Sydney</td>\n",
       "      <td>21.44</td>\n",
       "      <td>21.44</td>\n",
       "      <td>21.44</td>\n",
       "      <td>21.44</td>\n",
       "      <td>21.44</td>\n",
       "      <td>1</td>\n",
       "    </tr>\n",
       "    <tr>\n",
       "      <th>11</th>\n",
       "      <td>SPICY N TASTE PTY LTD BUNDOORA</td>\n",
       "      <td>19.55</td>\n",
       "      <td>19.55</td>\n",
       "      <td>19.55</td>\n",
       "      <td>19.55</td>\n",
       "      <td>19.55</td>\n",
       "      <td>1</td>\n",
       "    </tr>\n",
       "    <tr>\n",
       "      <th>12</th>\n",
       "      <td>SQ *THE LIL DUMPLING Melbourne</td>\n",
       "      <td>17.33</td>\n",
       "      <td>17.33</td>\n",
       "      <td>17.33</td>\n",
       "      <td>17.33</td>\n",
       "      <td>17.33</td>\n",
       "      <td>1</td>\n",
       "    </tr>\n",
       "    <tr>\n",
       "      <th>7</th>\n",
       "      <td>MUSEUM VICTORIA ADMISS CARLTON</td>\n",
       "      <td>15.00</td>\n",
       "      <td>15.00</td>\n",
       "      <td>15.00</td>\n",
       "      <td>15.00</td>\n",
       "      <td>15.00</td>\n",
       "      <td>1</td>\n",
       "    </tr>\n",
       "    <tr>\n",
       "      <th>10</th>\n",
       "      <td>ROCKET BURGERS &amp; FRI MELBOURNE VI</td>\n",
       "      <td>14.00</td>\n",
       "      <td>14.00</td>\n",
       "      <td>14.00</td>\n",
       "      <td>14.00</td>\n",
       "      <td>14.00</td>\n",
       "      <td>1</td>\n",
       "    </tr>\n",
       "    <tr>\n",
       "      <th>4</th>\n",
       "      <td>KFC ELIZABETH ST MELBOURNE</td>\n",
       "      <td>11.95</td>\n",
       "      <td>11.95</td>\n",
       "      <td>11.95</td>\n",
       "      <td>11.95</td>\n",
       "      <td>11.95</td>\n",
       "      <td>1</td>\n",
       "    </tr>\n",
       "    <tr>\n",
       "      <th>6</th>\n",
       "      <td>MELBOURNE VENDING CO TULLAMARINE</td>\n",
       "      <td>2.70</td>\n",
       "      <td>8.10</td>\n",
       "      <td>2.70</td>\n",
       "      <td>2.70</td>\n",
       "      <td>2.70</td>\n",
       "      <td>3</td>\n",
       "    </tr>\n",
       "    <tr>\n",
       "      <th>5</th>\n",
       "      <td>KMART 1391 RESERVOIR</td>\n",
       "      <td>8.00</td>\n",
       "      <td>8.00</td>\n",
       "      <td>8.00</td>\n",
       "      <td>8.00</td>\n",
       "      <td>8.00</td>\n",
       "      <td>1</td>\n",
       "    </tr>\n",
       "    <tr>\n",
       "      <th>2</th>\n",
       "      <td>COLES 7812 RESERVOIR</td>\n",
       "      <td>7.00</td>\n",
       "      <td>7.00</td>\n",
       "      <td>7.00</td>\n",
       "      <td>7.00</td>\n",
       "      <td>7.00</td>\n",
       "      <td>1</td>\n",
       "    </tr>\n",
       "    <tr>\n",
       "      <th>3</th>\n",
       "      <td>COMPASS MELBOURNEZOO PARKVILLE</td>\n",
       "      <td>6.50</td>\n",
       "      <td>6.50</td>\n",
       "      <td>6.50</td>\n",
       "      <td>6.50</td>\n",
       "      <td>6.50</td>\n",
       "      <td>1</td>\n",
       "    </tr>\n",
       "  </tbody>\n",
       "</table>\n",
       "</div>"
      ],
      "text/plain": [
       "                      TRANSACTION_NAME  median     sum   mean    max    min  \\\n",
       "0       AGORA IGA EXPRESS BUNDOORA VI    27.99  108.99  27.25  38.85  14.15   \n",
       "8             MYKI PAYMENTS MELBOURNE    35.00   70.00  35.00  50.00  20.00   \n",
       "13       Sea Life Melbourne Melbourne    47.00   47.00  47.00  47.00  47.00   \n",
       "15    Vodafone Australia North Sydney    40.00   40.00  40.00  40.00  40.00   \n",
       "1         Atiyah Streetfood Melbourne    32.38   32.38  32.38  32.38  32.38   \n",
       "9             Melbourne Zoo Parkville    30.00   30.00  30.00  30.00  30.00   \n",
       "14                  UBER *EATS Sydney    21.44   21.44  21.44  21.44  21.44   \n",
       "11     SPICY N TASTE PTY LTD BUNDOORA    19.55   19.55  19.55  19.55  19.55   \n",
       "12     SQ *THE LIL DUMPLING Melbourne    17.33   17.33  17.33  17.33  17.33   \n",
       "7      MUSEUM VICTORIA ADMISS CARLTON    15.00   15.00  15.00  15.00  15.00   \n",
       "10  ROCKET BURGERS & FRI MELBOURNE VI    14.00   14.00  14.00  14.00  14.00   \n",
       "4          KFC ELIZABETH ST MELBOURNE    11.95   11.95  11.95  11.95  11.95   \n",
       "6    MELBOURNE VENDING CO TULLAMARINE     2.70    8.10   2.70   2.70   2.70   \n",
       "5                KMART 1391 RESERVOIR     8.00    8.00   8.00   8.00   8.00   \n",
       "2                COLES 7812 RESERVOIR     7.00    7.00   7.00   7.00   7.00   \n",
       "3      COMPASS MELBOURNEZOO PARKVILLE     6.50    6.50   6.50   6.50   6.50   \n",
       "\n",
       "    count  \n",
       "0       4  \n",
       "8       2  \n",
       "13      1  \n",
       "15      1  \n",
       "1       1  \n",
       "9       1  \n",
       "14      1  \n",
       "11      1  \n",
       "12      1  \n",
       "7       1  \n",
       "10      1  \n",
       "4       1  \n",
       "6       3  \n",
       "5       1  \n",
       "2       1  \n",
       "3       1  "
      ]
     },
     "execution_count": 191,
     "metadata": {},
     "output_type": "execute_result"
    }
   ],
   "source": [
    "transAGG=np.round(trans.groupby([\"TRANSACTION_NAME\"])[\"TRANSACTION_AMOUNT\"].agg({\"sum\",\"mean\",\"median\",\"max\",\"min\",\"count\"}),2).reset_index().sort_values([\"sum\",\"mean\",\"median\",\"max\",\"min\",\"count\"],ascending=False)\n",
    "transAGG"
   ]
  },
  {
   "cell_type": "code",
   "execution_count": 192,
   "metadata": {},
   "outputs": [
    {
     "data": {
      "application/vnd.plotly.v1+json": {
       "config": {
        "plotlyServerURL": "https://plot.ly"
       },
       "data": [
        {
         "alignmentgroup": "True",
         "hovertemplate": "variable=sum<br>TRANSACTION_NAME=%{x}<br>value=%{y}<extra></extra>",
         "legendgroup": "sum",
         "marker": {
          "color": "#636efa",
          "pattern": {
           "shape": ""
          }
         },
         "name": "sum",
         "offsetgroup": "sum",
         "orientation": "v",
         "showlegend": true,
         "textposition": "auto",
         "type": "bar",
         "x": [
          "AGORA IGA EXPRESS BUNDOORA VI ",
          "MYKI PAYMENTS MELBOURNE ",
          "Sea Life Melbourne Melbourne ",
          "Vodafone Australia North Sydney ",
          "Atiyah Streetfood Melbourne ",
          "Melbourne Zoo Parkville ",
          "UBER *EATS Sydney ",
          "SPICY N TASTE PTY LTD BUNDOORA ",
          "SQ *THE LIL DUMPLING Melbourne ",
          "MUSEUM VICTORIA ADMISS CARLTON ",
          "ROCKET BURGERS & FRI MELBOURNE VI ",
          "KFC ELIZABETH ST MELBOURNE ",
          "MELBOURNE VENDING CO TULLAMARINE ",
          "KMART 1391 RESERVOIR ",
          "COLES 7812 RESERVOIR ",
          "COMPASS MELBOURNEZOO PARKVILLE "
         ],
         "xaxis": "x",
         "y": [
          108.99,
          70,
          47,
          40,
          32.38,
          30,
          21.44,
          19.55,
          17.33,
          15,
          14,
          11.95,
          8.1,
          8,
          7,
          6.5
         ],
         "yaxis": "y"
        },
        {
         "alignmentgroup": "True",
         "hovertemplate": "variable=mean<br>TRANSACTION_NAME=%{x}<br>value=%{y}<extra></extra>",
         "legendgroup": "mean",
         "marker": {
          "color": "#EF553B",
          "pattern": {
           "shape": ""
          }
         },
         "name": "mean",
         "offsetgroup": "mean",
         "orientation": "v",
         "showlegend": true,
         "textposition": "auto",
         "type": "bar",
         "x": [
          "AGORA IGA EXPRESS BUNDOORA VI ",
          "MYKI PAYMENTS MELBOURNE ",
          "Sea Life Melbourne Melbourne ",
          "Vodafone Australia North Sydney ",
          "Atiyah Streetfood Melbourne ",
          "Melbourne Zoo Parkville ",
          "UBER *EATS Sydney ",
          "SPICY N TASTE PTY LTD BUNDOORA ",
          "SQ *THE LIL DUMPLING Melbourne ",
          "MUSEUM VICTORIA ADMISS CARLTON ",
          "ROCKET BURGERS & FRI MELBOURNE VI ",
          "KFC ELIZABETH ST MELBOURNE ",
          "MELBOURNE VENDING CO TULLAMARINE ",
          "KMART 1391 RESERVOIR ",
          "COLES 7812 RESERVOIR ",
          "COMPASS MELBOURNEZOO PARKVILLE "
         ],
         "xaxis": "x",
         "y": [
          27.25,
          35,
          47,
          40,
          32.38,
          30,
          21.44,
          19.55,
          17.33,
          15,
          14,
          11.95,
          2.7,
          8,
          7,
          6.5
         ],
         "yaxis": "y"
        },
        {
         "alignmentgroup": "True",
         "hovertemplate": "variable=median<br>TRANSACTION_NAME=%{x}<br>value=%{y}<extra></extra>",
         "legendgroup": "median",
         "marker": {
          "color": "#00cc96",
          "pattern": {
           "shape": ""
          }
         },
         "name": "median",
         "offsetgroup": "median",
         "orientation": "v",
         "showlegend": true,
         "textposition": "auto",
         "type": "bar",
         "x": [
          "AGORA IGA EXPRESS BUNDOORA VI ",
          "MYKI PAYMENTS MELBOURNE ",
          "Sea Life Melbourne Melbourne ",
          "Vodafone Australia North Sydney ",
          "Atiyah Streetfood Melbourne ",
          "Melbourne Zoo Parkville ",
          "UBER *EATS Sydney ",
          "SPICY N TASTE PTY LTD BUNDOORA ",
          "SQ *THE LIL DUMPLING Melbourne ",
          "MUSEUM VICTORIA ADMISS CARLTON ",
          "ROCKET BURGERS & FRI MELBOURNE VI ",
          "KFC ELIZABETH ST MELBOURNE ",
          "MELBOURNE VENDING CO TULLAMARINE ",
          "KMART 1391 RESERVOIR ",
          "COLES 7812 RESERVOIR ",
          "COMPASS MELBOURNEZOO PARKVILLE "
         ],
         "xaxis": "x",
         "y": [
          27.99,
          35,
          47,
          40,
          32.38,
          30,
          21.44,
          19.55,
          17.33,
          15,
          14,
          11.95,
          2.7,
          8,
          7,
          6.5
         ],
         "yaxis": "y"
        },
        {
         "alignmentgroup": "True",
         "hovertemplate": "variable=max<br>TRANSACTION_NAME=%{x}<br>value=%{y}<extra></extra>",
         "legendgroup": "max",
         "marker": {
          "color": "#ab63fa",
          "pattern": {
           "shape": ""
          }
         },
         "name": "max",
         "offsetgroup": "max",
         "orientation": "v",
         "showlegend": true,
         "textposition": "auto",
         "type": "bar",
         "x": [
          "AGORA IGA EXPRESS BUNDOORA VI ",
          "MYKI PAYMENTS MELBOURNE ",
          "Sea Life Melbourne Melbourne ",
          "Vodafone Australia North Sydney ",
          "Atiyah Streetfood Melbourne ",
          "Melbourne Zoo Parkville ",
          "UBER *EATS Sydney ",
          "SPICY N TASTE PTY LTD BUNDOORA ",
          "SQ *THE LIL DUMPLING Melbourne ",
          "MUSEUM VICTORIA ADMISS CARLTON ",
          "ROCKET BURGERS & FRI MELBOURNE VI ",
          "KFC ELIZABETH ST MELBOURNE ",
          "MELBOURNE VENDING CO TULLAMARINE ",
          "KMART 1391 RESERVOIR ",
          "COLES 7812 RESERVOIR ",
          "COMPASS MELBOURNEZOO PARKVILLE "
         ],
         "xaxis": "x",
         "y": [
          38.85,
          50,
          47,
          40,
          32.38,
          30,
          21.44,
          19.55,
          17.33,
          15,
          14,
          11.95,
          2.7,
          8,
          7,
          6.5
         ],
         "yaxis": "y"
        },
        {
         "alignmentgroup": "True",
         "hovertemplate": "variable=min<br>TRANSACTION_NAME=%{x}<br>value=%{y}<extra></extra>",
         "legendgroup": "min",
         "marker": {
          "color": "#FFA15A",
          "pattern": {
           "shape": ""
          }
         },
         "name": "min",
         "offsetgroup": "min",
         "orientation": "v",
         "showlegend": true,
         "textposition": "auto",
         "type": "bar",
         "x": [
          "AGORA IGA EXPRESS BUNDOORA VI ",
          "MYKI PAYMENTS MELBOURNE ",
          "Sea Life Melbourne Melbourne ",
          "Vodafone Australia North Sydney ",
          "Atiyah Streetfood Melbourne ",
          "Melbourne Zoo Parkville ",
          "UBER *EATS Sydney ",
          "SPICY N TASTE PTY LTD BUNDOORA ",
          "SQ *THE LIL DUMPLING Melbourne ",
          "MUSEUM VICTORIA ADMISS CARLTON ",
          "ROCKET BURGERS & FRI MELBOURNE VI ",
          "KFC ELIZABETH ST MELBOURNE ",
          "MELBOURNE VENDING CO TULLAMARINE ",
          "KMART 1391 RESERVOIR ",
          "COLES 7812 RESERVOIR ",
          "COMPASS MELBOURNEZOO PARKVILLE "
         ],
         "xaxis": "x",
         "y": [
          14.15,
          20,
          47,
          40,
          32.38,
          30,
          21.44,
          19.55,
          17.33,
          15,
          14,
          11.95,
          2.7,
          8,
          7,
          6.5
         ],
         "yaxis": "y"
        },
        {
         "alignmentgroup": "True",
         "hovertemplate": "variable=count<br>TRANSACTION_NAME=%{x}<br>value=%{y}<extra></extra>",
         "legendgroup": "count",
         "marker": {
          "color": "#19d3f3",
          "pattern": {
           "shape": ""
          }
         },
         "name": "count",
         "offsetgroup": "count",
         "orientation": "v",
         "showlegend": true,
         "textposition": "auto",
         "type": "bar",
         "x": [
          "AGORA IGA EXPRESS BUNDOORA VI ",
          "MYKI PAYMENTS MELBOURNE ",
          "Sea Life Melbourne Melbourne ",
          "Vodafone Australia North Sydney ",
          "Atiyah Streetfood Melbourne ",
          "Melbourne Zoo Parkville ",
          "UBER *EATS Sydney ",
          "SPICY N TASTE PTY LTD BUNDOORA ",
          "SQ *THE LIL DUMPLING Melbourne ",
          "MUSEUM VICTORIA ADMISS CARLTON ",
          "ROCKET BURGERS & FRI MELBOURNE VI ",
          "KFC ELIZABETH ST MELBOURNE ",
          "MELBOURNE VENDING CO TULLAMARINE ",
          "KMART 1391 RESERVOIR ",
          "COLES 7812 RESERVOIR ",
          "COMPASS MELBOURNEZOO PARKVILLE "
         ],
         "xaxis": "x",
         "y": [
          4,
          2,
          1,
          1,
          1,
          1,
          1,
          1,
          1,
          1,
          1,
          1,
          3,
          1,
          1,
          1
         ],
         "yaxis": "y"
        }
       ],
       "layout": {
        "barmode": "group",
        "legend": {
         "title": {
          "text": "variable"
         },
         "tracegroupgap": 0
        },
        "margin": {
         "t": 60
        },
        "template": {
         "data": {
          "bar": [
           {
            "error_x": {
             "color": "#2a3f5f"
            },
            "error_y": {
             "color": "#2a3f5f"
            },
            "marker": {
             "line": {
              "color": "#E5ECF6",
              "width": 0.5
             },
             "pattern": {
              "fillmode": "overlay",
              "size": 10,
              "solidity": 0.2
             }
            },
            "type": "bar"
           }
          ],
          "barpolar": [
           {
            "marker": {
             "line": {
              "color": "#E5ECF6",
              "width": 0.5
             },
             "pattern": {
              "fillmode": "overlay",
              "size": 10,
              "solidity": 0.2
             }
            },
            "type": "barpolar"
           }
          ],
          "carpet": [
           {
            "aaxis": {
             "endlinecolor": "#2a3f5f",
             "gridcolor": "white",
             "linecolor": "white",
             "minorgridcolor": "white",
             "startlinecolor": "#2a3f5f"
            },
            "baxis": {
             "endlinecolor": "#2a3f5f",
             "gridcolor": "white",
             "linecolor": "white",
             "minorgridcolor": "white",
             "startlinecolor": "#2a3f5f"
            },
            "type": "carpet"
           }
          ],
          "choropleth": [
           {
            "colorbar": {
             "outlinewidth": 0,
             "ticks": ""
            },
            "type": "choropleth"
           }
          ],
          "contour": [
           {
            "colorbar": {
             "outlinewidth": 0,
             "ticks": ""
            },
            "colorscale": [
             [
              0,
              "#0d0887"
             ],
             [
              0.1111111111111111,
              "#46039f"
             ],
             [
              0.2222222222222222,
              "#7201a8"
             ],
             [
              0.3333333333333333,
              "#9c179e"
             ],
             [
              0.4444444444444444,
              "#bd3786"
             ],
             [
              0.5555555555555556,
              "#d8576b"
             ],
             [
              0.6666666666666666,
              "#ed7953"
             ],
             [
              0.7777777777777778,
              "#fb9f3a"
             ],
             [
              0.8888888888888888,
              "#fdca26"
             ],
             [
              1,
              "#f0f921"
             ]
            ],
            "type": "contour"
           }
          ],
          "contourcarpet": [
           {
            "colorbar": {
             "outlinewidth": 0,
             "ticks": ""
            },
            "type": "contourcarpet"
           }
          ],
          "heatmap": [
           {
            "colorbar": {
             "outlinewidth": 0,
             "ticks": ""
            },
            "colorscale": [
             [
              0,
              "#0d0887"
             ],
             [
              0.1111111111111111,
              "#46039f"
             ],
             [
              0.2222222222222222,
              "#7201a8"
             ],
             [
              0.3333333333333333,
              "#9c179e"
             ],
             [
              0.4444444444444444,
              "#bd3786"
             ],
             [
              0.5555555555555556,
              "#d8576b"
             ],
             [
              0.6666666666666666,
              "#ed7953"
             ],
             [
              0.7777777777777778,
              "#fb9f3a"
             ],
             [
              0.8888888888888888,
              "#fdca26"
             ],
             [
              1,
              "#f0f921"
             ]
            ],
            "type": "heatmap"
           }
          ],
          "heatmapgl": [
           {
            "colorbar": {
             "outlinewidth": 0,
             "ticks": ""
            },
            "colorscale": [
             [
              0,
              "#0d0887"
             ],
             [
              0.1111111111111111,
              "#46039f"
             ],
             [
              0.2222222222222222,
              "#7201a8"
             ],
             [
              0.3333333333333333,
              "#9c179e"
             ],
             [
              0.4444444444444444,
              "#bd3786"
             ],
             [
              0.5555555555555556,
              "#d8576b"
             ],
             [
              0.6666666666666666,
              "#ed7953"
             ],
             [
              0.7777777777777778,
              "#fb9f3a"
             ],
             [
              0.8888888888888888,
              "#fdca26"
             ],
             [
              1,
              "#f0f921"
             ]
            ],
            "type": "heatmapgl"
           }
          ],
          "histogram": [
           {
            "marker": {
             "pattern": {
              "fillmode": "overlay",
              "size": 10,
              "solidity": 0.2
             }
            },
            "type": "histogram"
           }
          ],
          "histogram2d": [
           {
            "colorbar": {
             "outlinewidth": 0,
             "ticks": ""
            },
            "colorscale": [
             [
              0,
              "#0d0887"
             ],
             [
              0.1111111111111111,
              "#46039f"
             ],
             [
              0.2222222222222222,
              "#7201a8"
             ],
             [
              0.3333333333333333,
              "#9c179e"
             ],
             [
              0.4444444444444444,
              "#bd3786"
             ],
             [
              0.5555555555555556,
              "#d8576b"
             ],
             [
              0.6666666666666666,
              "#ed7953"
             ],
             [
              0.7777777777777778,
              "#fb9f3a"
             ],
             [
              0.8888888888888888,
              "#fdca26"
             ],
             [
              1,
              "#f0f921"
             ]
            ],
            "type": "histogram2d"
           }
          ],
          "histogram2dcontour": [
           {
            "colorbar": {
             "outlinewidth": 0,
             "ticks": ""
            },
            "colorscale": [
             [
              0,
              "#0d0887"
             ],
             [
              0.1111111111111111,
              "#46039f"
             ],
             [
              0.2222222222222222,
              "#7201a8"
             ],
             [
              0.3333333333333333,
              "#9c179e"
             ],
             [
              0.4444444444444444,
              "#bd3786"
             ],
             [
              0.5555555555555556,
              "#d8576b"
             ],
             [
              0.6666666666666666,
              "#ed7953"
             ],
             [
              0.7777777777777778,
              "#fb9f3a"
             ],
             [
              0.8888888888888888,
              "#fdca26"
             ],
             [
              1,
              "#f0f921"
             ]
            ],
            "type": "histogram2dcontour"
           }
          ],
          "mesh3d": [
           {
            "colorbar": {
             "outlinewidth": 0,
             "ticks": ""
            },
            "type": "mesh3d"
           }
          ],
          "parcoords": [
           {
            "line": {
             "colorbar": {
              "outlinewidth": 0,
              "ticks": ""
             }
            },
            "type": "parcoords"
           }
          ],
          "pie": [
           {
            "automargin": true,
            "type": "pie"
           }
          ],
          "scatter": [
           {
            "marker": {
             "colorbar": {
              "outlinewidth": 0,
              "ticks": ""
             }
            },
            "type": "scatter"
           }
          ],
          "scatter3d": [
           {
            "line": {
             "colorbar": {
              "outlinewidth": 0,
              "ticks": ""
             }
            },
            "marker": {
             "colorbar": {
              "outlinewidth": 0,
              "ticks": ""
             }
            },
            "type": "scatter3d"
           }
          ],
          "scattercarpet": [
           {
            "marker": {
             "colorbar": {
              "outlinewidth": 0,
              "ticks": ""
             }
            },
            "type": "scattercarpet"
           }
          ],
          "scattergeo": [
           {
            "marker": {
             "colorbar": {
              "outlinewidth": 0,
              "ticks": ""
             }
            },
            "type": "scattergeo"
           }
          ],
          "scattergl": [
           {
            "marker": {
             "colorbar": {
              "outlinewidth": 0,
              "ticks": ""
             }
            },
            "type": "scattergl"
           }
          ],
          "scattermapbox": [
           {
            "marker": {
             "colorbar": {
              "outlinewidth": 0,
              "ticks": ""
             }
            },
            "type": "scattermapbox"
           }
          ],
          "scatterpolar": [
           {
            "marker": {
             "colorbar": {
              "outlinewidth": 0,
              "ticks": ""
             }
            },
            "type": "scatterpolar"
           }
          ],
          "scatterpolargl": [
           {
            "marker": {
             "colorbar": {
              "outlinewidth": 0,
              "ticks": ""
             }
            },
            "type": "scatterpolargl"
           }
          ],
          "scatterternary": [
           {
            "marker": {
             "colorbar": {
              "outlinewidth": 0,
              "ticks": ""
             }
            },
            "type": "scatterternary"
           }
          ],
          "surface": [
           {
            "colorbar": {
             "outlinewidth": 0,
             "ticks": ""
            },
            "colorscale": [
             [
              0,
              "#0d0887"
             ],
             [
              0.1111111111111111,
              "#46039f"
             ],
             [
              0.2222222222222222,
              "#7201a8"
             ],
             [
              0.3333333333333333,
              "#9c179e"
             ],
             [
              0.4444444444444444,
              "#bd3786"
             ],
             [
              0.5555555555555556,
              "#d8576b"
             ],
             [
              0.6666666666666666,
              "#ed7953"
             ],
             [
              0.7777777777777778,
              "#fb9f3a"
             ],
             [
              0.8888888888888888,
              "#fdca26"
             ],
             [
              1,
              "#f0f921"
             ]
            ],
            "type": "surface"
           }
          ],
          "table": [
           {
            "cells": {
             "fill": {
              "color": "#EBF0F8"
             },
             "line": {
              "color": "white"
             }
            },
            "header": {
             "fill": {
              "color": "#C8D4E3"
             },
             "line": {
              "color": "white"
             }
            },
            "type": "table"
           }
          ]
         },
         "layout": {
          "annotationdefaults": {
           "arrowcolor": "#2a3f5f",
           "arrowhead": 0,
           "arrowwidth": 1
          },
          "autotypenumbers": "strict",
          "coloraxis": {
           "colorbar": {
            "outlinewidth": 0,
            "ticks": ""
           }
          },
          "colorscale": {
           "diverging": [
            [
             0,
             "#8e0152"
            ],
            [
             0.1,
             "#c51b7d"
            ],
            [
             0.2,
             "#de77ae"
            ],
            [
             0.3,
             "#f1b6da"
            ],
            [
             0.4,
             "#fde0ef"
            ],
            [
             0.5,
             "#f7f7f7"
            ],
            [
             0.6,
             "#e6f5d0"
            ],
            [
             0.7,
             "#b8e186"
            ],
            [
             0.8,
             "#7fbc41"
            ],
            [
             0.9,
             "#4d9221"
            ],
            [
             1,
             "#276419"
            ]
           ],
           "sequential": [
            [
             0,
             "#0d0887"
            ],
            [
             0.1111111111111111,
             "#46039f"
            ],
            [
             0.2222222222222222,
             "#7201a8"
            ],
            [
             0.3333333333333333,
             "#9c179e"
            ],
            [
             0.4444444444444444,
             "#bd3786"
            ],
            [
             0.5555555555555556,
             "#d8576b"
            ],
            [
             0.6666666666666666,
             "#ed7953"
            ],
            [
             0.7777777777777778,
             "#fb9f3a"
            ],
            [
             0.8888888888888888,
             "#fdca26"
            ],
            [
             1,
             "#f0f921"
            ]
           ],
           "sequentialminus": [
            [
             0,
             "#0d0887"
            ],
            [
             0.1111111111111111,
             "#46039f"
            ],
            [
             0.2222222222222222,
             "#7201a8"
            ],
            [
             0.3333333333333333,
             "#9c179e"
            ],
            [
             0.4444444444444444,
             "#bd3786"
            ],
            [
             0.5555555555555556,
             "#d8576b"
            ],
            [
             0.6666666666666666,
             "#ed7953"
            ],
            [
             0.7777777777777778,
             "#fb9f3a"
            ],
            [
             0.8888888888888888,
             "#fdca26"
            ],
            [
             1,
             "#f0f921"
            ]
           ]
          },
          "colorway": [
           "#636efa",
           "#EF553B",
           "#00cc96",
           "#ab63fa",
           "#FFA15A",
           "#19d3f3",
           "#FF6692",
           "#B6E880",
           "#FF97FF",
           "#FECB52"
          ],
          "font": {
           "color": "#2a3f5f"
          },
          "geo": {
           "bgcolor": "white",
           "lakecolor": "white",
           "landcolor": "#E5ECF6",
           "showlakes": true,
           "showland": true,
           "subunitcolor": "white"
          },
          "hoverlabel": {
           "align": "left"
          },
          "hovermode": "closest",
          "mapbox": {
           "style": "light"
          },
          "paper_bgcolor": "white",
          "plot_bgcolor": "#E5ECF6",
          "polar": {
           "angularaxis": {
            "gridcolor": "white",
            "linecolor": "white",
            "ticks": ""
           },
           "bgcolor": "#E5ECF6",
           "radialaxis": {
            "gridcolor": "white",
            "linecolor": "white",
            "ticks": ""
           }
          },
          "scene": {
           "xaxis": {
            "backgroundcolor": "#E5ECF6",
            "gridcolor": "white",
            "gridwidth": 2,
            "linecolor": "white",
            "showbackground": true,
            "ticks": "",
            "zerolinecolor": "white"
           },
           "yaxis": {
            "backgroundcolor": "#E5ECF6",
            "gridcolor": "white",
            "gridwidth": 2,
            "linecolor": "white",
            "showbackground": true,
            "ticks": "",
            "zerolinecolor": "white"
           },
           "zaxis": {
            "backgroundcolor": "#E5ECF6",
            "gridcolor": "white",
            "gridwidth": 2,
            "linecolor": "white",
            "showbackground": true,
            "ticks": "",
            "zerolinecolor": "white"
           }
          },
          "shapedefaults": {
           "line": {
            "color": "#2a3f5f"
           }
          },
          "ternary": {
           "aaxis": {
            "gridcolor": "white",
            "linecolor": "white",
            "ticks": ""
           },
           "baxis": {
            "gridcolor": "white",
            "linecolor": "white",
            "ticks": ""
           },
           "bgcolor": "#E5ECF6",
           "caxis": {
            "gridcolor": "white",
            "linecolor": "white",
            "ticks": ""
           }
          },
          "title": {
           "x": 0.05
          },
          "xaxis": {
           "automargin": true,
           "gridcolor": "white",
           "linecolor": "white",
           "ticks": "",
           "title": {
            "standoff": 15
           },
           "zerolinecolor": "white",
           "zerolinewidth": 2
          },
          "yaxis": {
           "automargin": true,
           "gridcolor": "white",
           "linecolor": "white",
           "ticks": "",
           "title": {
            "standoff": 15
           },
           "zerolinecolor": "white",
           "zerolinewidth": 2
          }
         }
        },
        "xaxis": {
         "anchor": "y",
         "domain": [
          0,
          1
         ],
         "title": {
          "text": "TRANSACTION_NAME"
         }
        },
        "yaxis": {
         "anchor": "x",
         "domain": [
          0,
          1
         ],
         "title": {
          "text": "value"
         }
        }
       }
      },
      "text/html": [
       "<div>                            <div id=\"ef15aecd-a8aa-4ee9-b7a6-885c729f42f8\" class=\"plotly-graph-div\" style=\"height:525px; width:100%;\"></div>            <script type=\"text/javascript\">                require([\"plotly\"], function(Plotly) {                    window.PLOTLYENV=window.PLOTLYENV || {};                                    if (document.getElementById(\"ef15aecd-a8aa-4ee9-b7a6-885c729f42f8\")) {                    Plotly.newPlot(                        \"ef15aecd-a8aa-4ee9-b7a6-885c729f42f8\",                        [{\"alignmentgroup\":\"True\",\"hovertemplate\":\"variable=sum<br>TRANSACTION_NAME=%{x}<br>value=%{y}<extra></extra>\",\"legendgroup\":\"sum\",\"marker\":{\"color\":\"#636efa\",\"pattern\":{\"shape\":\"\"}},\"name\":\"sum\",\"offsetgroup\":\"sum\",\"orientation\":\"v\",\"showlegend\":true,\"textposition\":\"auto\",\"type\":\"bar\",\"x\":[\"AGORA IGA EXPRESS BUNDOORA VI \",\"MYKI PAYMENTS MELBOURNE \",\"Sea Life Melbourne Melbourne \",\"Vodafone Australia North Sydney \",\"Atiyah Streetfood Melbourne \",\"Melbourne Zoo Parkville \",\"UBER *EATS Sydney \",\"SPICY N TASTE PTY LTD BUNDOORA \",\"SQ *THE LIL DUMPLING Melbourne \",\"MUSEUM VICTORIA ADMISS CARLTON \",\"ROCKET BURGERS & FRI MELBOURNE VI \",\"KFC ELIZABETH ST MELBOURNE \",\"MELBOURNE VENDING CO TULLAMARINE \",\"KMART 1391 RESERVOIR \",\"COLES 7812 RESERVOIR \",\"COMPASS MELBOURNEZOO PARKVILLE \"],\"xaxis\":\"x\",\"y\":[108.99,70.0,47.0,40.0,32.38,30.0,21.44,19.55,17.33,15.0,14.0,11.95,8.1,8.0,7.0,6.5],\"yaxis\":\"y\"},{\"alignmentgroup\":\"True\",\"hovertemplate\":\"variable=mean<br>TRANSACTION_NAME=%{x}<br>value=%{y}<extra></extra>\",\"legendgroup\":\"mean\",\"marker\":{\"color\":\"#EF553B\",\"pattern\":{\"shape\":\"\"}},\"name\":\"mean\",\"offsetgroup\":\"mean\",\"orientation\":\"v\",\"showlegend\":true,\"textposition\":\"auto\",\"type\":\"bar\",\"x\":[\"AGORA IGA EXPRESS BUNDOORA VI \",\"MYKI PAYMENTS MELBOURNE \",\"Sea Life Melbourne Melbourne \",\"Vodafone Australia North Sydney \",\"Atiyah Streetfood Melbourne \",\"Melbourne Zoo Parkville \",\"UBER *EATS Sydney \",\"SPICY N TASTE PTY LTD BUNDOORA \",\"SQ *THE LIL DUMPLING Melbourne \",\"MUSEUM VICTORIA ADMISS CARLTON \",\"ROCKET BURGERS & FRI MELBOURNE VI \",\"KFC ELIZABETH ST MELBOURNE \",\"MELBOURNE VENDING CO TULLAMARINE \",\"KMART 1391 RESERVOIR \",\"COLES 7812 RESERVOIR \",\"COMPASS MELBOURNEZOO PARKVILLE \"],\"xaxis\":\"x\",\"y\":[27.25,35.0,47.0,40.0,32.38,30.0,21.44,19.55,17.33,15.0,14.0,11.95,2.7,8.0,7.0,6.5],\"yaxis\":\"y\"},{\"alignmentgroup\":\"True\",\"hovertemplate\":\"variable=median<br>TRANSACTION_NAME=%{x}<br>value=%{y}<extra></extra>\",\"legendgroup\":\"median\",\"marker\":{\"color\":\"#00cc96\",\"pattern\":{\"shape\":\"\"}},\"name\":\"median\",\"offsetgroup\":\"median\",\"orientation\":\"v\",\"showlegend\":true,\"textposition\":\"auto\",\"type\":\"bar\",\"x\":[\"AGORA IGA EXPRESS BUNDOORA VI \",\"MYKI PAYMENTS MELBOURNE \",\"Sea Life Melbourne Melbourne \",\"Vodafone Australia North Sydney \",\"Atiyah Streetfood Melbourne \",\"Melbourne Zoo Parkville \",\"UBER *EATS Sydney \",\"SPICY N TASTE PTY LTD BUNDOORA \",\"SQ *THE LIL DUMPLING Melbourne \",\"MUSEUM VICTORIA ADMISS CARLTON \",\"ROCKET BURGERS & FRI MELBOURNE VI \",\"KFC ELIZABETH ST MELBOURNE \",\"MELBOURNE VENDING CO TULLAMARINE \",\"KMART 1391 RESERVOIR \",\"COLES 7812 RESERVOIR \",\"COMPASS MELBOURNEZOO PARKVILLE \"],\"xaxis\":\"x\",\"y\":[27.99,35.0,47.0,40.0,32.38,30.0,21.44,19.55,17.33,15.0,14.0,11.95,2.7,8.0,7.0,6.5],\"yaxis\":\"y\"},{\"alignmentgroup\":\"True\",\"hovertemplate\":\"variable=max<br>TRANSACTION_NAME=%{x}<br>value=%{y}<extra></extra>\",\"legendgroup\":\"max\",\"marker\":{\"color\":\"#ab63fa\",\"pattern\":{\"shape\":\"\"}},\"name\":\"max\",\"offsetgroup\":\"max\",\"orientation\":\"v\",\"showlegend\":true,\"textposition\":\"auto\",\"type\":\"bar\",\"x\":[\"AGORA IGA EXPRESS BUNDOORA VI \",\"MYKI PAYMENTS MELBOURNE \",\"Sea Life Melbourne Melbourne \",\"Vodafone Australia North Sydney \",\"Atiyah Streetfood Melbourne \",\"Melbourne Zoo Parkville \",\"UBER *EATS Sydney \",\"SPICY N TASTE PTY LTD BUNDOORA \",\"SQ *THE LIL DUMPLING Melbourne \",\"MUSEUM VICTORIA ADMISS CARLTON \",\"ROCKET BURGERS & FRI MELBOURNE VI \",\"KFC ELIZABETH ST MELBOURNE \",\"MELBOURNE VENDING CO TULLAMARINE \",\"KMART 1391 RESERVOIR \",\"COLES 7812 RESERVOIR \",\"COMPASS MELBOURNEZOO PARKVILLE \"],\"xaxis\":\"x\",\"y\":[38.85,50.0,47.0,40.0,32.38,30.0,21.44,19.55,17.33,15.0,14.0,11.95,2.7,8.0,7.0,6.5],\"yaxis\":\"y\"},{\"alignmentgroup\":\"True\",\"hovertemplate\":\"variable=min<br>TRANSACTION_NAME=%{x}<br>value=%{y}<extra></extra>\",\"legendgroup\":\"min\",\"marker\":{\"color\":\"#FFA15A\",\"pattern\":{\"shape\":\"\"}},\"name\":\"min\",\"offsetgroup\":\"min\",\"orientation\":\"v\",\"showlegend\":true,\"textposition\":\"auto\",\"type\":\"bar\",\"x\":[\"AGORA IGA EXPRESS BUNDOORA VI \",\"MYKI PAYMENTS MELBOURNE \",\"Sea Life Melbourne Melbourne \",\"Vodafone Australia North Sydney \",\"Atiyah Streetfood Melbourne \",\"Melbourne Zoo Parkville \",\"UBER *EATS Sydney \",\"SPICY N TASTE PTY LTD BUNDOORA \",\"SQ *THE LIL DUMPLING Melbourne \",\"MUSEUM VICTORIA ADMISS CARLTON \",\"ROCKET BURGERS & FRI MELBOURNE VI \",\"KFC ELIZABETH ST MELBOURNE \",\"MELBOURNE VENDING CO TULLAMARINE \",\"KMART 1391 RESERVOIR \",\"COLES 7812 RESERVOIR \",\"COMPASS MELBOURNEZOO PARKVILLE \"],\"xaxis\":\"x\",\"y\":[14.15,20.0,47.0,40.0,32.38,30.0,21.44,19.55,17.33,15.0,14.0,11.95,2.7,8.0,7.0,6.5],\"yaxis\":\"y\"},{\"alignmentgroup\":\"True\",\"hovertemplate\":\"variable=count<br>TRANSACTION_NAME=%{x}<br>value=%{y}<extra></extra>\",\"legendgroup\":\"count\",\"marker\":{\"color\":\"#19d3f3\",\"pattern\":{\"shape\":\"\"}},\"name\":\"count\",\"offsetgroup\":\"count\",\"orientation\":\"v\",\"showlegend\":true,\"textposition\":\"auto\",\"type\":\"bar\",\"x\":[\"AGORA IGA EXPRESS BUNDOORA VI \",\"MYKI PAYMENTS MELBOURNE \",\"Sea Life Melbourne Melbourne \",\"Vodafone Australia North Sydney \",\"Atiyah Streetfood Melbourne \",\"Melbourne Zoo Parkville \",\"UBER *EATS Sydney \",\"SPICY N TASTE PTY LTD BUNDOORA \",\"SQ *THE LIL DUMPLING Melbourne \",\"MUSEUM VICTORIA ADMISS CARLTON \",\"ROCKET BURGERS & FRI MELBOURNE VI \",\"KFC ELIZABETH ST MELBOURNE \",\"MELBOURNE VENDING CO TULLAMARINE \",\"KMART 1391 RESERVOIR \",\"COLES 7812 RESERVOIR \",\"COMPASS MELBOURNEZOO PARKVILLE \"],\"xaxis\":\"x\",\"y\":[4.0,2.0,1.0,1.0,1.0,1.0,1.0,1.0,1.0,1.0,1.0,1.0,3.0,1.0,1.0,1.0],\"yaxis\":\"y\"}],                        {\"barmode\":\"group\",\"legend\":{\"title\":{\"text\":\"variable\"},\"tracegroupgap\":0},\"margin\":{\"t\":60},\"template\":{\"data\":{\"bar\":[{\"error_x\":{\"color\":\"#2a3f5f\"},\"error_y\":{\"color\":\"#2a3f5f\"},\"marker\":{\"line\":{\"color\":\"#E5ECF6\",\"width\":0.5},\"pattern\":{\"fillmode\":\"overlay\",\"size\":10,\"solidity\":0.2}},\"type\":\"bar\"}],\"barpolar\":[{\"marker\":{\"line\":{\"color\":\"#E5ECF6\",\"width\":0.5},\"pattern\":{\"fillmode\":\"overlay\",\"size\":10,\"solidity\":0.2}},\"type\":\"barpolar\"}],\"carpet\":[{\"aaxis\":{\"endlinecolor\":\"#2a3f5f\",\"gridcolor\":\"white\",\"linecolor\":\"white\",\"minorgridcolor\":\"white\",\"startlinecolor\":\"#2a3f5f\"},\"baxis\":{\"endlinecolor\":\"#2a3f5f\",\"gridcolor\":\"white\",\"linecolor\":\"white\",\"minorgridcolor\":\"white\",\"startlinecolor\":\"#2a3f5f\"},\"type\":\"carpet\"}],\"choropleth\":[{\"colorbar\":{\"outlinewidth\":0,\"ticks\":\"\"},\"type\":\"choropleth\"}],\"contour\":[{\"colorbar\":{\"outlinewidth\":0,\"ticks\":\"\"},\"colorscale\":[[0.0,\"#0d0887\"],[0.1111111111111111,\"#46039f\"],[0.2222222222222222,\"#7201a8\"],[0.3333333333333333,\"#9c179e\"],[0.4444444444444444,\"#bd3786\"],[0.5555555555555556,\"#d8576b\"],[0.6666666666666666,\"#ed7953\"],[0.7777777777777778,\"#fb9f3a\"],[0.8888888888888888,\"#fdca26\"],[1.0,\"#f0f921\"]],\"type\":\"contour\"}],\"contourcarpet\":[{\"colorbar\":{\"outlinewidth\":0,\"ticks\":\"\"},\"type\":\"contourcarpet\"}],\"heatmap\":[{\"colorbar\":{\"outlinewidth\":0,\"ticks\":\"\"},\"colorscale\":[[0.0,\"#0d0887\"],[0.1111111111111111,\"#46039f\"],[0.2222222222222222,\"#7201a8\"],[0.3333333333333333,\"#9c179e\"],[0.4444444444444444,\"#bd3786\"],[0.5555555555555556,\"#d8576b\"],[0.6666666666666666,\"#ed7953\"],[0.7777777777777778,\"#fb9f3a\"],[0.8888888888888888,\"#fdca26\"],[1.0,\"#f0f921\"]],\"type\":\"heatmap\"}],\"heatmapgl\":[{\"colorbar\":{\"outlinewidth\":0,\"ticks\":\"\"},\"colorscale\":[[0.0,\"#0d0887\"],[0.1111111111111111,\"#46039f\"],[0.2222222222222222,\"#7201a8\"],[0.3333333333333333,\"#9c179e\"],[0.4444444444444444,\"#bd3786\"],[0.5555555555555556,\"#d8576b\"],[0.6666666666666666,\"#ed7953\"],[0.7777777777777778,\"#fb9f3a\"],[0.8888888888888888,\"#fdca26\"],[1.0,\"#f0f921\"]],\"type\":\"heatmapgl\"}],\"histogram\":[{\"marker\":{\"pattern\":{\"fillmode\":\"overlay\",\"size\":10,\"solidity\":0.2}},\"type\":\"histogram\"}],\"histogram2d\":[{\"colorbar\":{\"outlinewidth\":0,\"ticks\":\"\"},\"colorscale\":[[0.0,\"#0d0887\"],[0.1111111111111111,\"#46039f\"],[0.2222222222222222,\"#7201a8\"],[0.3333333333333333,\"#9c179e\"],[0.4444444444444444,\"#bd3786\"],[0.5555555555555556,\"#d8576b\"],[0.6666666666666666,\"#ed7953\"],[0.7777777777777778,\"#fb9f3a\"],[0.8888888888888888,\"#fdca26\"],[1.0,\"#f0f921\"]],\"type\":\"histogram2d\"}],\"histogram2dcontour\":[{\"colorbar\":{\"outlinewidth\":0,\"ticks\":\"\"},\"colorscale\":[[0.0,\"#0d0887\"],[0.1111111111111111,\"#46039f\"],[0.2222222222222222,\"#7201a8\"],[0.3333333333333333,\"#9c179e\"],[0.4444444444444444,\"#bd3786\"],[0.5555555555555556,\"#d8576b\"],[0.6666666666666666,\"#ed7953\"],[0.7777777777777778,\"#fb9f3a\"],[0.8888888888888888,\"#fdca26\"],[1.0,\"#f0f921\"]],\"type\":\"histogram2dcontour\"}],\"mesh3d\":[{\"colorbar\":{\"outlinewidth\":0,\"ticks\":\"\"},\"type\":\"mesh3d\"}],\"parcoords\":[{\"line\":{\"colorbar\":{\"outlinewidth\":0,\"ticks\":\"\"}},\"type\":\"parcoords\"}],\"pie\":[{\"automargin\":true,\"type\":\"pie\"}],\"scatter\":[{\"marker\":{\"colorbar\":{\"outlinewidth\":0,\"ticks\":\"\"}},\"type\":\"scatter\"}],\"scatter3d\":[{\"line\":{\"colorbar\":{\"outlinewidth\":0,\"ticks\":\"\"}},\"marker\":{\"colorbar\":{\"outlinewidth\":0,\"ticks\":\"\"}},\"type\":\"scatter3d\"}],\"scattercarpet\":[{\"marker\":{\"colorbar\":{\"outlinewidth\":0,\"ticks\":\"\"}},\"type\":\"scattercarpet\"}],\"scattergeo\":[{\"marker\":{\"colorbar\":{\"outlinewidth\":0,\"ticks\":\"\"}},\"type\":\"scattergeo\"}],\"scattergl\":[{\"marker\":{\"colorbar\":{\"outlinewidth\":0,\"ticks\":\"\"}},\"type\":\"scattergl\"}],\"scattermapbox\":[{\"marker\":{\"colorbar\":{\"outlinewidth\":0,\"ticks\":\"\"}},\"type\":\"scattermapbox\"}],\"scatterpolar\":[{\"marker\":{\"colorbar\":{\"outlinewidth\":0,\"ticks\":\"\"}},\"type\":\"scatterpolar\"}],\"scatterpolargl\":[{\"marker\":{\"colorbar\":{\"outlinewidth\":0,\"ticks\":\"\"}},\"type\":\"scatterpolargl\"}],\"scatterternary\":[{\"marker\":{\"colorbar\":{\"outlinewidth\":0,\"ticks\":\"\"}},\"type\":\"scatterternary\"}],\"surface\":[{\"colorbar\":{\"outlinewidth\":0,\"ticks\":\"\"},\"colorscale\":[[0.0,\"#0d0887\"],[0.1111111111111111,\"#46039f\"],[0.2222222222222222,\"#7201a8\"],[0.3333333333333333,\"#9c179e\"],[0.4444444444444444,\"#bd3786\"],[0.5555555555555556,\"#d8576b\"],[0.6666666666666666,\"#ed7953\"],[0.7777777777777778,\"#fb9f3a\"],[0.8888888888888888,\"#fdca26\"],[1.0,\"#f0f921\"]],\"type\":\"surface\"}],\"table\":[{\"cells\":{\"fill\":{\"color\":\"#EBF0F8\"},\"line\":{\"color\":\"white\"}},\"header\":{\"fill\":{\"color\":\"#C8D4E3\"},\"line\":{\"color\":\"white\"}},\"type\":\"table\"}]},\"layout\":{\"annotationdefaults\":{\"arrowcolor\":\"#2a3f5f\",\"arrowhead\":0,\"arrowwidth\":1},\"autotypenumbers\":\"strict\",\"coloraxis\":{\"colorbar\":{\"outlinewidth\":0,\"ticks\":\"\"}},\"colorscale\":{\"diverging\":[[0,\"#8e0152\"],[0.1,\"#c51b7d\"],[0.2,\"#de77ae\"],[0.3,\"#f1b6da\"],[0.4,\"#fde0ef\"],[0.5,\"#f7f7f7\"],[0.6,\"#e6f5d0\"],[0.7,\"#b8e186\"],[0.8,\"#7fbc41\"],[0.9,\"#4d9221\"],[1,\"#276419\"]],\"sequential\":[[0.0,\"#0d0887\"],[0.1111111111111111,\"#46039f\"],[0.2222222222222222,\"#7201a8\"],[0.3333333333333333,\"#9c179e\"],[0.4444444444444444,\"#bd3786\"],[0.5555555555555556,\"#d8576b\"],[0.6666666666666666,\"#ed7953\"],[0.7777777777777778,\"#fb9f3a\"],[0.8888888888888888,\"#fdca26\"],[1.0,\"#f0f921\"]],\"sequentialminus\":[[0.0,\"#0d0887\"],[0.1111111111111111,\"#46039f\"],[0.2222222222222222,\"#7201a8\"],[0.3333333333333333,\"#9c179e\"],[0.4444444444444444,\"#bd3786\"],[0.5555555555555556,\"#d8576b\"],[0.6666666666666666,\"#ed7953\"],[0.7777777777777778,\"#fb9f3a\"],[0.8888888888888888,\"#fdca26\"],[1.0,\"#f0f921\"]]},\"colorway\":[\"#636efa\",\"#EF553B\",\"#00cc96\",\"#ab63fa\",\"#FFA15A\",\"#19d3f3\",\"#FF6692\",\"#B6E880\",\"#FF97FF\",\"#FECB52\"],\"font\":{\"color\":\"#2a3f5f\"},\"geo\":{\"bgcolor\":\"white\",\"lakecolor\":\"white\",\"landcolor\":\"#E5ECF6\",\"showlakes\":true,\"showland\":true,\"subunitcolor\":\"white\"},\"hoverlabel\":{\"align\":\"left\"},\"hovermode\":\"closest\",\"mapbox\":{\"style\":\"light\"},\"paper_bgcolor\":\"white\",\"plot_bgcolor\":\"#E5ECF6\",\"polar\":{\"angularaxis\":{\"gridcolor\":\"white\",\"linecolor\":\"white\",\"ticks\":\"\"},\"bgcolor\":\"#E5ECF6\",\"radialaxis\":{\"gridcolor\":\"white\",\"linecolor\":\"white\",\"ticks\":\"\"}},\"scene\":{\"xaxis\":{\"backgroundcolor\":\"#E5ECF6\",\"gridcolor\":\"white\",\"gridwidth\":2,\"linecolor\":\"white\",\"showbackground\":true,\"ticks\":\"\",\"zerolinecolor\":\"white\"},\"yaxis\":{\"backgroundcolor\":\"#E5ECF6\",\"gridcolor\":\"white\",\"gridwidth\":2,\"linecolor\":\"white\",\"showbackground\":true,\"ticks\":\"\",\"zerolinecolor\":\"white\"},\"zaxis\":{\"backgroundcolor\":\"#E5ECF6\",\"gridcolor\":\"white\",\"gridwidth\":2,\"linecolor\":\"white\",\"showbackground\":true,\"ticks\":\"\",\"zerolinecolor\":\"white\"}},\"shapedefaults\":{\"line\":{\"color\":\"#2a3f5f\"}},\"ternary\":{\"aaxis\":{\"gridcolor\":\"white\",\"linecolor\":\"white\",\"ticks\":\"\"},\"baxis\":{\"gridcolor\":\"white\",\"linecolor\":\"white\",\"ticks\":\"\"},\"bgcolor\":\"#E5ECF6\",\"caxis\":{\"gridcolor\":\"white\",\"linecolor\":\"white\",\"ticks\":\"\"}},\"title\":{\"x\":0.05},\"xaxis\":{\"automargin\":true,\"gridcolor\":\"white\",\"linecolor\":\"white\",\"ticks\":\"\",\"title\":{\"standoff\":15},\"zerolinecolor\":\"white\",\"zerolinewidth\":2},\"yaxis\":{\"automargin\":true,\"gridcolor\":\"white\",\"linecolor\":\"white\",\"ticks\":\"\",\"title\":{\"standoff\":15},\"zerolinecolor\":\"white\",\"zerolinewidth\":2}}},\"xaxis\":{\"anchor\":\"y\",\"domain\":[0.0,1.0],\"title\":{\"text\":\"TRANSACTION_NAME\"}},\"yaxis\":{\"anchor\":\"x\",\"domain\":[0.0,1.0],\"title\":{\"text\":\"value\"}}},                        {\"responsive\": true}                    ).then(function(){\n",
       "                            \n",
       "var gd = document.getElementById('ef15aecd-a8aa-4ee9-b7a6-885c729f42f8');\n",
       "var x = new MutationObserver(function (mutations, observer) {{\n",
       "        var display = window.getComputedStyle(gd).display;\n",
       "        if (!display || display === 'none') {{\n",
       "            console.log([gd, 'removed!']);\n",
       "            Plotly.purge(gd);\n",
       "            observer.disconnect();\n",
       "        }}\n",
       "}});\n",
       "\n",
       "// Listen for the removal of the full notebook cells\n",
       "var notebookContainer = gd.closest('#notebook-container');\n",
       "if (notebookContainer) {{\n",
       "    x.observe(notebookContainer, {childList: true});\n",
       "}}\n",
       "\n",
       "// Listen for the clearing of the current output cell\n",
       "var outputEl = gd.closest('.output');\n",
       "if (outputEl) {{\n",
       "    x.observe(outputEl, {childList: true});\n",
       "}}\n",
       "\n",
       "                        })                };                });            </script>        </div>"
      ]
     },
     "metadata": {},
     "output_type": "display_data"
    }
   ],
   "source": [
    "px.bar(transAGG,x=\"TRANSACTION_NAME\",y=[\"sum\",\"mean\",\"median\",\"max\",\"min\",\"count\"],barmode=\"group\")"
   ]
  },
  {
   "cell_type": "markdown",
   "metadata": {},
   "source": [
    "From aboove we see that We Spent Max In Agogra With Total of  <b>108.99 dollars</b> rounding to <b>109 dollars</b> and Average of <b>27.25 dollars</b> and Max of <b>38.85 dollars</b> On <b>17th June</b>"
   ]
  },
  {
   "cell_type": "markdown",
   "metadata": {},
   "source": [
    "- EXTRAS, THIS ISNT OF MUCH OF USEFUL INSIGHT BUT DEPENING ON SITUATIONS IT CAN BE IMP.\n",
    "- LETS LOOK AT THE NAME AND DATE HAVING MAX COUNT OF TRANSACTION DONE "
   ]
  },
  {
   "cell_type": "code",
   "execution_count": 193,
   "metadata": {},
   "outputs": [
    {
     "data": {
      "text/plain": [
       "<AxesSubplot:xlabel='TRANSACTION_DATE'>"
      ]
     },
     "execution_count": 193,
     "metadata": {},
     "output_type": "execute_result"
    },
    {
     "data": {
      "image/png": "[encoded data removed]",
      "text/plain": [
       "<Figure size 720x360 with 2 Axes>"
      ]
     },
     "metadata": {
      "needs_background": "light"
     },
     "output_type": "display_data"
    }
   ],
   "source": [
    "transAGG=trans.groupby([\"TRANSACTION_NAME\"])[\"TRANSACTION_AMOUNT\"].count().reset_index().sort_values([\"TRANSACTION_AMOUNT\"],ascending=False)\n",
    "transAGGS=trans.groupby([\"TRANSACTION_DATE\"])[\"TRANSACTION_AMOUNT\"].count().reset_index().sort_values([\"TRANSACTION_AMOUNT\"],ascending=False)\n",
    "transAGG.plot(x=\"TRANSACTION_NAME\",kind=\"bar\",ax=plt.subplot(121),figsize=(10,5))\n",
    "transAGGS.plot(x=\"TRANSACTION_DATE\",kind=\"bar\",ax=plt.subplot(122),figsize=(10,5))"
   ]
  },
  {
   "cell_type": "markdown",
   "metadata": {},
   "source": [
    "- From above we Infer That\n",
    "    - We Made Maximum transactions in IGA Agora\n",
    "    - We Made Maximum Transaction On 22nd and 29th June"
   ]
  }
 ],
 "metadata": {
  "kernelspec": {
   "display_name": "Python 3",
   "language": "python",
   "name": "python3"
  },
  "language_info": {
   "codemirror_mode": {
    "name": "ipython",
    "version": 3
   },
   "file_extension": ".py",
   "mimetype": "text/x-python",
   "name": "python",
   "nbconvert_exporter": "python",
   "pygments_lexer": "ipython3",
   "version": "3.8.5"
  }
 },
 "nbformat": 4,
 "nbformat_minor": 4
}
